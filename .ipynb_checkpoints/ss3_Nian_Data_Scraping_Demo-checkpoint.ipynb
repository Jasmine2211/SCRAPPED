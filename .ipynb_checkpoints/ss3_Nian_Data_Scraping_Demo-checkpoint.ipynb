{
 "cells": [
  {
   "cell_type": "code",
   "execution_count": 1,
   "metadata": {
    "collapsed": false,
    "deletable": true,
    "editable": true,
    "slideshow": {
     "slide_type": "slide"
    }
   },
   "outputs": [],
   "source": [
    "## all imports\n",
    "from IPython.display import HTML\n",
    "from IPython.display import Image\n",
    "import numpy as np\n",
    "#import urllib2\n",
    "import urllib.request\n",
    "import bs4 #this is beautiful soup\n",
    "from bs4 import BeautifulSoup\n",
    "import time\n",
    "import operator\n",
    "import socket\n",
    "#import cPickle\n",
    "import _pickle as cPickle\n",
    "import re # regular expressions\n",
    "\n",
    "from pandas import Series\n",
    "import pandas as pd\n",
    "from pandas import DataFrame\n",
    "\n",
    "import matplotlib\n",
    "import matplotlib.pyplot as plt\n",
    "%matplotlib inline\n",
    "\n",
    "import seaborn as sns\n",
    "sns.set_context(\"talk\")\n",
    "sns.set_style(\"white\")\n",
    "\n",
    "import pandas as pd\n",
    "#from secret import *"
   ]
  },
  {
   "cell_type": "markdown",
   "metadata": {
    "deletable": true,
    "editable": true
   },
   "source": [
    "# Data Sources\n",
    "\n",
    "+ UC Irvine Machine Learning Repository - http://archive.ics.uci.edu/ml/\n",
    "+ Reddit Open Data - https://www.reddit.com/r/opendata/\n",
    "+ Census.gov - http://www.census.gov/\n",
    "+ Data.gov - https://www.data.gov/\n",
    "+ Wikipedia Database - https://en.wikipedia.org/wiki/Wikipedia:Database_download\n",
    "+ IMDB Data - http://www.imdb.com/interfaces\n",
    "+ Last.fm Database - http://www.dtic.upf.edu/~ocelma/MusicRecommendationDataset/index.html\n",
    "+ Quandl - https://www.quandl.com/\n",
    "+ Factual- http://www.factual.com/\n",
    "+ Metro Boston Data Common - http://metroboston.datacommon.org/\n",
    "+ Dataverse Network - http://dataverse.org/\n",
    "+ Infochimps - http://www.infochimps.com/\n",
    "+ Linked Data - http://linkeddata.org/\n",
    "+ Guardian DataBlog - https://www.theguardian.com/data\n",
    "+ Data Market - https://datamarket.com/\n",
    "+ Climate Data Sources - http://www.realclimate.org/index.php/data-sources/\n",
    "+ Climate Station Records  http://www.metoffice.gov.uk/research/climate/climate-monitoring/land-and-atmosphere/surface-station-records\n",
    "+ CDC Data - https://www.cdc.gov/nchs/tools/index.htm\n",
    "+ World Bank Catalog - http://datacatalog.worldbank.org/\n",
    "+ Free SVG Maps - http://www.d-maps.com/index.php?lang=en\n",
    "+ Office for National Statistics - https://www.ons.gov.uk/\n",
    "+ StateMaster - http://www.statemaster.com/index.php\n",
    "+ Kaggle - https://www.kaggle.com/datasets\n",
    "+ Stack Overflow - https://data.stackexchange.com/stackoverflow/queries\n"
   ]
  },
  {
   "cell_type": "markdown",
   "metadata": {
    "deletable": true,
    "editable": true,
    "slideshow": {
     "slide_type": "slide"
    }
   },
   "source": [
    "# API registrations\n",
    "If you would like to run all the examples in this notebook, you need to register for the following APIs:\n",
    "\n",
    "Rotten Tomatoes\n",
    "http://developer.rottentomatoes.com/member/register\n",
    "\n",
    "Twitter\n",
    "https://apps.twitter.com/app/new\n",
    "\n",
    "Twitter instructions\n",
    "https://twittercommunity.com/t/how-to-get-my-api-key/7033\n",
    "\n",
    "ReadTweet by Justin Blinder http://projects.justinblinder.com/We-Read-We-Tweet\n",
    "\n",
    "Twitter Sentiments by Healey and Ramaswamy http://www.csc.ncsu.edu/faculty/healey/tweet_viz/tweet_app/\n",
    "\n",
    "Robots instruction about what ur allowed to do http://www.example.com/robots.txt \n",
    "\n",
    "Use Beautiful Soup library to help http://www.crummy.com/software/BeautifulSoup"
   ]
  },
  {
   "cell_type": "code",
   "execution_count": 2,
   "metadata": {
    "collapsed": false,
    "deletable": true,
    "editable": true
   },
   "outputs": [
    {
     "data": {
      "text/html": [
       "<div>\n",
       "<style scoped>\n",
       "    .dataframe tbody tr th:only-of-type {\n",
       "        vertical-align: middle;\n",
       "    }\n",
       "\n",
       "    .dataframe tbody tr th {\n",
       "        vertical-align: top;\n",
       "    }\n",
       "\n",
       "    .dataframe thead th {\n",
       "        text-align: right;\n",
       "    }\n",
       "</style>\n",
       "<table border=\"1\" class=\"dataframe\">\n",
       "  <thead>\n",
       "    <tr style=\"text-align: right;\">\n",
       "      <th></th>\n",
       "      <th>state</th>\n",
       "      <th>newspaper</th>\n",
       "      <th>users_monthly</th>\n",
       "      <th>circulation</th>\n",
       "      <th>name</th>\n",
       "    </tr>\n",
       "  </thead>\n",
       "  <tbody>\n",
       "    <tr>\n",
       "      <th>0</th>\n",
       "      <td>CA</td>\n",
       "      <td>www.latimes.com</td>\n",
       "      <td>32,500,119</td>\n",
       "      <td>446,391</td>\n",
       "      <td>NaN</td>\n",
       "    </tr>\n",
       "    <tr>\n",
       "      <th>1</th>\n",
       "      <td>CA</td>\n",
       "      <td>www.sfchronicle.com</td>\n",
       "      <td>2,248,731</td>\n",
       "      <td>163,307</td>\n",
       "      <td>NaN</td>\n",
       "    </tr>\n",
       "    <tr>\n",
       "      <th>2</th>\n",
       "      <td>CA</td>\n",
       "      <td>www.utsandiego.com</td>\n",
       "      <td>3,222,961</td>\n",
       "      <td>144,085</td>\n",
       "      <td>NaN</td>\n",
       "    </tr>\n",
       "    <tr>\n",
       "      <th>3</th>\n",
       "      <td>CA</td>\n",
       "      <td>www.ocregister.com</td>\n",
       "      <td>NaN</td>\n",
       "      <td>NaN</td>\n",
       "      <td>NaN</td>\n",
       "    </tr>\n",
       "    <tr>\n",
       "      <th>4</th>\n",
       "      <td>CA</td>\n",
       "      <td>www.sfgate.com</td>\n",
       "      <td>NaN</td>\n",
       "      <td>NaN</td>\n",
       "      <td>NaN</td>\n",
       "    </tr>\n",
       "  </tbody>\n",
       "</table>\n",
       "</div>"
      ],
      "text/plain": [
       "  state            newspaper users_monthly circulation  name\n",
       "0    CA      www.latimes.com    32,500,119     446,391   NaN\n",
       "1    CA  www.sfchronicle.com     2,248,731     163,307   NaN\n",
       "2    CA   www.utsandiego.com     3,222,961     144,085   NaN\n",
       "3    CA   www.ocregister.com           NaN         NaN   NaN\n",
       "4    CA       www.sfgate.com           NaN         NaN   NaN"
      ]
     },
     "execution_count": 2,
     "metadata": {},
     "output_type": "execute_result"
    }
   ],
   "source": [
    "#READ THE LIST OF NEWSPAPERS\n",
    "\n",
    "df = pd.read_csv('local_newspapers.csv')\n",
    "df.head()"
   ]
  },
  {
   "cell_type": "markdown",
   "metadata": {
    "deletable": true,
    "editable": true,
    "slideshow": {
     "slide_type": "notes"
    }
   },
   "source": [
    "The following cell just defines a url as a string and then reads the data from that url using the urllib library. You see that we got the whole HTML content of the page into the string variable source."
   ]
  },
  {
   "cell_type": "code",
   "execution_count": 3,
   "metadata": {
    "collapsed": true,
    "deletable": true,
    "editable": true
   },
   "outputs": [],
   "source": [
    "#SET SEARCH KEY WORDS (WE GO FOR EXACT MATCH HERE)\n",
    "search_key_words = 'electric cars'\n",
    "\n",
    "#SET MAX NUMBER OF ARTICLES PER NEWSPAPER\n",
    "num_articles = 10 "
   ]
  },
  {
   "cell_type": "code",
   "execution_count": 4,
   "metadata": {
    "collapsed": false,
    "deletable": true,
    "editable": true
   },
   "outputs": [],
   "source": [
    "#TRANSOFRM THE PARAMETERS BEFORE GOING TO SEARCH \n",
    "search_key_words = \"\\\"\" + search_key_words.replace(\" \",\"+\") + \"\\\"\"\n",
    "df['newspaper_search'] = df['newspaper'].apply(lambda x: x.replace(\"/\",\"%2F\"))"
   ]
  },
  {
   "cell_type": "code",
   "execution_count": 5,
   "metadata": {
    "collapsed": false,
    "deletable": true,
    "editable": true,
    "slideshow": {
     "slide_type": "slide"
    }
   },
   "outputs": [
    {
     "name": "stdout",
     "output_type": "stream",
     "text": [
      "https://google.com/search?q=www.latimes.com+\"electric+cars\"\n",
      "https://google.com/search?q=www.sfchronicle.com+\"electric+cars\"\n",
      "https://google.com/search?q=www.utsandiego.com+\"electric+cars\"\n",
      "https://google.com/search?q=www.ocregister.com+\"electric+cars\"\n",
      "https://google.com/search?q=www.sfgate.com+\"electric+cars\"\n",
      "https://google.com/search?q=www.sacbee.com+\"electric+cars\"\n",
      "https://google.com/search?q=www.sfexaminer.com+\"electric+cars\"\n",
      "https://google.com/search?q=www.mercurynews.com+\"electric+cars\"\n",
      "https://google.com/search?q=www.fresnobee.com+\"electric+cars\"\n",
      "https://google.com/search?q=www.pe.com+\"electric+cars\"\n",
      "https://google.com/search?q=www.al.com%2Fbirmingham+\"electric+cars\"\n",
      "https://google.com/search?q=www.tuscaloosanews.com+\"electric+cars\"\n",
      "https://google.com/search?q=www.montgomeryadvertiser.com+\"electric+cars\"\n",
      "https://google.com/search?q=www.dothaneagle.com+\"electric+cars\"\n",
      "https://google.com/search?q=www.timesdaily.com+\"electric+cars\"\n",
      "https://google.com/search?q=www.decaturdaily.com+\"electric+cars\"\n",
      "https://google.com/search?q=www.annistonstar.com+\"electric+cars\"\n",
      "https://google.com/search?q=www.gadsdentimes.com+\"electric+cars\"\n",
      "https://google.com/search?q=www.al.com+\"electric+cars\"\n"
     ]
    }
   ],
   "source": [
    "#READ THE GOOGLE RESULT PAGE\n",
    "import time\n",
    "from urllib.request import Request, urlopen\n",
    "\n",
    "sources = []\n",
    "for newspaper in df.newspaper_search:\n",
    "    url = 'https://google.com/search?q=' + newspaper + \"+\" + search_key_words\n",
    "    print(url)\n",
    "    req = Request(url, headers={'User-Agent': 'Mozilla/5.0'})\n",
    "    sources.append(urlopen(req).read())\n",
    "\n",
    "#url = 'http://www.crummy.com/software/BeautifulSoup' #define a url as a string\n",
    "#source = urllib2.urlopen(url).read() #reads the data from this url using urllib library"
   ]
  },
  {
   "cell_type": "code",
   "execution_count": 6,
   "metadata": {
    "collapsed": true,
    "deletable": true,
    "editable": true
   },
   "outputs": [],
   "source": [
    "#PROCESS ALL THE RESULT PAGES INTO STRING TYPE\n",
    "\n",
    "trees = []\n",
    "for source in sources:\n",
    "    soup = bs4.BeautifulSoup(source, 'html.parser')\n",
    "    tree = soup.prettify()\n",
    "    trees.append(tree)\n",
    "    "
   ]
  },
  {
   "cell_type": "code",
   "execution_count": 7,
   "metadata": {
    "collapsed": false,
    "deletable": true,
    "editable": true
   },
   "outputs": [
    {
     "data": {
      "text/plain": [
       "'<!DOCTYPE doctype html>\\n<html itemscope=\"\" itemtype=\"http://schema.org/SearchResultsPage\" lang=\"en\">\\n <head>\\n  <meta content=\"text/html; charset=utf-8\" http-equiv=\"Content-Type\"/>\\n  <meta content=\"/images/branding/googleg/1x/googleg_standard_color_128dp.png\" itemprop=\"image\"/>\\n  <link href=\"/images/branding/product/ico/googleg_lodp.ico\" rel=\"shortcut icon\"/>\\n  <noscript>\\n   <meta content=\"0;url=/search?q=www.al.com+%22electric+cars%22&amp;gbv=1&amp;sei=1cdjW4XSMInIjwTmhqzQBA\" http-equiv=\"refresh\"/>\\n   <style>\\n    table,div,span,p{display:none}\\n   </style>\\n   <div style=\"display:block\">\\n    Please click\\n    <a href=\"/search?q=www.al.com+%22electric+cars%22&amp;gbv=1&amp;sei=1cdjW4XSMInIjwTmhqzQBA\">\\n     here\\n    </a>\\n    if you are not redirected within a few seconds.\\n   </div>\\n  </noscript>\\n  <title>\\n   www.al.com \"electric cars\" - Google Search\\n  </title>\\n  <style>\\n   #gb{font:13px/27px Arial,sans-serif;height:30px}#gbz,#gbg{position:absolute;white-space:nowrap;top:0;height:30px;z-index:1000}#gbz{left:0;padding-left:4px}#gbg{right:0;padding-right:5px}#gbs{background:transparent;position:absolute;top:-999px;visibility:hidden;z-index:998;right:0}.gbto #gbs{background:#fff}#gbx3,#gbx4{background-color:#2d2d2d;background-image:none;_background-image:none;background-position:0 -138px;background-repeat:repeat-x;border-bottom:1px solid #000;font-size:24px;height:29px;_height:30px;opacity:1;filter:alpha(opacity=100);position:absolute;top:0;width:100%;z-index:990}#gbx3{left:0}#gbx4{right:0}#gbb{position:relative}#gbbw{left:0;position:absolute;top:30px;width:100%}.gbtcb{position:absolute;visibility:hidden}#gbz .gbtcb{right:0}#gbg .gbtcb{left:0}.gbxx{display:none !important}.gbxo{opacity:0 !important;filter:alpha(opacity=0) !important}.gbm{position:absolute;z-index:999;top:-999px;visibility:hidden;text-align:left;border:1px solid #bebebe;background:#fff;-moz-box-shadow:-1px 1px 1px rgba(0,0,0,.2);-webkit-box-shadow:0 2px 4px rgba(0,0,0,.2);box-shadow:0 2px 4px rgba(0,0,0,.2)}.gbrtl .gbm{-moz-box-shadow:1px 1px 1px rgba(0,0,0,.2)}.gbto .gbm,.gbto #gbs{top:29px;visibility:visible}#gbz .gbm{left:0}#gbg .gbm{right:0}.gbxms{background-color:#ccc;display:block;position:absolute;z-index:1;top:-1px;left:-2px;right:-2px;bottom:-2px;opacity:.4;-moz-border-radius:3px;filter:progid:DXImageTransform.Microsoft.Blur(pixelradius=5);*opacity:1;*top:-2px;*left:-5px;*right:5px;*bottom:4px;-ms-filter:\"progid:DXImageTransform.Microsoft.Blur(pixelradius=5)\";opacity:1\\\\0/;top:-4px\\\\0/;left:-6px\\\\0/;right:5px\\\\0/;bottom:4px\\\\0/}.gbma{position:relative;top:-1px;border-style:solid dashed dashed;border-color:transparent;border-top-color:#c0c0c0;display:-moz-inline-box;display:inline-block;font-size:0;height:0;line-height:0;width:0;border-width:3px 3px 0;padding-top:1px;left:4px}#gbztms1,#gbi4m1,#gbi4s,#gbi4t{zoom:1}.gbtc,.gbmc,.gbmcc{display:block;list-style:none;margin:0;padding:0}.gbmc{background:#fff;padding:10px 0;position:relative;z-index:2;zoom:1}.gbt{position:relative;display:-moz-inline-box;display:inline-block;line-height:27px;padding:0;vertical-align:top}.gbt{*display:inline}.gbto{box-shadow:0 2px 4px rgba(0,0,0,.2);-moz-box-shadow:0 2px 4px rgba(0,0,0,.2);-webkit-box-shadow:0 2px 4px rgba(0,0,0,.2)}.gbzt,.gbgt{cursor:pointer;display:block;text-decoration:none !important}span#gbg6,span#gbg4{cursor:default}.gbts{border-left:1px solid transparent;border-right:1px solid transparent;display:block;*display:inline-block;padding:0 5px;position:relative;z-index:1000}.gbts{*display:inline}.gbzt .gbts{display:inline;zoom:1}.gbto .gbts{background:#fff;border-color:#bebebe;color:#36c;padding-bottom:1px;padding-top:2px}.gbz0l .gbts{color:#fff;font-weight:bold}.gbtsa{padding-right:9px}#gbz .gbzt,#gbz .gbgt,#gbg .gbgt{color:#ccc!important}.gbtb2{display:block;border-top:2px solid transparent}.gbto .gbzt .gbtb2,.gbto .gbgt .gbtb2{border-top-width:0}.gbtb .gbts{background:url(https://ssl.gstatic.com/gb/images/b_8d5afc09.png);_background:url(https://ssl.gstatic.com/gb/images/b8_3615d64d.png);background-position:-27px -22px;border:0;font-size:0;padding:29px 0 0;*padding:27px 0 0;width:1px}.gbzt:hover,.gbzt:focus,.gbgt-hvr,.gbgt:focus{background-color:#4c4c4c;background-image:none;_background-image:none;background-position:0 -102px;background-repeat:repeat-x;outline:none;text-decoration:none !important}.gbpdjs .gbto .gbm{min-width:99%}.gbz0l .gbtb2{border-top-color:#dd4b39!important}#gbi4s,#gbi4s1{font-weight:bold}#gbg6.gbgt-hvr,#gbg6.gbgt:focus{background-color:transparent;background-image:none}.gbg4a{font-size:0;line-height:0}.gbg4a .gbts{padding:27px 5px 0;*padding:25px 5px 0}.gbto .gbg4a .gbts{padding:29px 5px 1px;*padding:27px 5px 1px}#gbi4i,#gbi4id{left:5px;border:0;height:24px;position:absolute;top:1px;width:24px}.gbto #gbi4i,.gbto #gbi4id{top:3px}.gbi4p{display:block;width:24px}#gbi4id{background-position:-44px -101px}#gbmpid{background-position:0 0}#gbmpi,#gbmpid{border:none;display:inline-block;height:48px;width:48px}#gbmpiw{display:inline-block;line-height:9px;padding-left:20px;margin-top:10px;position:relative}#gbmpi,#gbmpid,#gbmpiw{*display:inline}#gbg5{font-size:0}#gbgs5{padding:5px !important}.gbto #gbgs5{padding:7px 5px 6px !important}#gbi5{background:url(https://ssl.gstatic.com/gb/images/b_8d5afc09.png);_background:url(https://ssl.gstatic.com/gb/images/b8_3615d64d.png);background-position:0 0;display:block;font-size:0;height:17px;width:16px}.gbto #gbi5{background-position:-6px -22px}.gbn .gbmt,.gbn .gbmt:visited,.gbnd .gbmt,.gbnd .gbmt:visited{color:#dd8e27 !important}.gbf .gbmt,.gbf .gbmt:visited{color:#900 !important}.gbmt,.gbml1,.gbmlb,.gbmt:visited,.gbml1:visited,.gbmlb:visited{color:#36c !important;text-decoration:none !important}.gbmt,.gbmt:visited{display:block}.gbml1,.gbmlb,.gbml1:visited,.gbmlb:visited{display:inline-block;margin:0 10px}.gbml1,.gbmlb,.gbml1:visited,.gbmlb:visited{*display:inline}.gbml1,.gbml1:visited{padding:0 10px}.gbml1-hvr,.gbml1:focus{outline:none;text-decoration:underline !important}#gbpm .gbml1{display:inline;margin:0;padding:0;white-space:nowrap}.gbmlb,.gbmlb:visited{line-height:27px}.gbmlb-hvr,.gbmlb:focus{outline:none;text-decoration:underline !important}.gbmlbw{color:#ccc;margin:0 10px}.gbmt{padding:0 20px}.gbmt:hover,.gbmt:focus{background:#eee;cursor:pointer;outline:0 solid black;text-decoration:none !important}.gbm0l,.gbm0l:visited{color:#000 !important;font-weight:bold}.gbmh{border-top:1px solid #bebebe;font-size:0;margin:10px 0}#gbd4 .gbmc{background:#f5f5f5;padding-top:0}#gbd4 .gbsbic::-webkit-scrollbar-track:vertical{background-color:#f5f5f5;margin-top:2px}#gbmpdv{background:#fff;border-bottom:1px solid #bebebe;-moz-box-shadow:0 2px 4px rgba(0,0,0,.12);-o-box-shadow:0 2px 4px rgba(0,0,0,.12);-webkit-box-shadow:0 2px 4px rgba(0,0,0,.12);box-shadow:0 2px 4px rgba(0,0,0,.12);position:relative;z-index:1}#gbd4 .gbmh{margin:0}.gbmtc{padding:0;margin:0;line-height:27px}.GBMCC:last-child:after,#GBMPAL:last-child:after{content:\\'\\\\0A\\\\0A\\';white-space:pre;position:absolute}#gbmps{*zoom:1}#gbd4 .gbpc,#gbmpas .gbmt{line-height:17px}#gbd4 .gbpgs .gbmtc{line-height:27px}#gbd4 .gbmtc{border-bottom:1px solid #bebebe}#gbd4 .gbpc{display:inline-block;margin:16px 0 10px;padding-right:50px;vertical-align:top}#gbd4 .gbpc{*display:inline}.gbpc .gbps,.gbpc .gbps2{display:block;margin:0 20px}#gbmplp.gbps{margin:0 10px}.gbpc .gbps{color:#000;font-weight:bold}.gbpc .gbpd{margin-bottom:5px}.gbpd .gbmt,.gbpd .gbps{color:#666 !important}.gbpd .gbmt{opacity:.4;filter:alpha(opacity=40)}.gbps2{color:#666;display:block}.gbp0{display:none}.gbp0 .gbps2{font-weight:bold}#gbd4 .gbmcc{margin-top:5px}.gbpmc{background:#fef9db}.gbpmc .gbpmtc{padding:10px 20px}#gbpm{border:0;*border-collapse:collapse;border-spacing:0;margin:0;white-space:normal}#gbpm .gbpmtc{border-top:none;color:#000 !important;font:11px Arial,sans-serif}#gbpms{*white-space:nowrap}.gbpms2{font-weight:bold;white-space:nowrap}#gbmpal{*border-collapse:collapse;border-spacing:0;border:0;margin:0;white-space:nowrap;width:100%}.gbmpala,.gbmpalb{font:13px Arial,sans-serif;line-height:27px;padding:10px 20px 0;white-space:nowrap}.gbmpala{padding-left:0;text-align:left}.gbmpalb{padding-right:0;text-align:right}#gbmpasb .gbps{color:#000}#gbmpal .gbqfbb{margin:0 20px}.gbp0 .gbps{*display:inline}a.gbiba{margin:8px 20px 10px}.gbmpiaw{display:inline-block;padding-right:10px;margin-bottom:6px;margin-top:10px}.gbxv{visibility:hidden}.gbmpiaa{display:block;margin-top:10px}.gbmpia{border:none;display:block;height:48px;width:48px}.gbmpnw{display:inline-block;height:auto;margin:10px 0;vertical-align:top} .gbqfb,.gbqfba,.gbqfbb{-moz-border-radius:2px;-webkit-border-radius:2px;border-radius:2px;cursor:default !important;display:inline-block;font-weight:bold;height:29px;line-height:29px;min-width:54px;*min-width:70px;padding:0 8px;text-align:center;text-decoration:none !important;-moz-user-select:none;-webkit-user-select:none}.gbqfb:focus,.gbqfba:focus,.gbqfbb:focus{border:1px solid #4d90fe;-moz-box-shadow:inset 0 0 0 1px rgba(255, 255, 255, 0.5);-webkit-box-shadow:inset 0 0 0 1px rgba(255, 255, 255, 0.5);box-shadow:inset 0 0 0 1px rgba(255, 255, 255, 0.5);outline:none}.gbqfb-hvr:focus,.gbqfba-hvr:focus,.gbqfbb-hvr:focus{-webkit-box-shadow:inset 0 0 0 1px #fff,0 1px 1px rgba(0,0,0,.1);-moz-box-shadow:inset 0 0 0 1px #fff,0 1px 1px rgba(0,0,0,.1);box-shadow:inset 0 0 0 1px #fff,0 1px 1px rgba(0,0,0,.1)}.gbqfb-no-focus:focus{border:1px solid #3079ed;-moz-box-shadow:none;-webkit-box-shadow:none;box-shadow:none}.gbqfb-hvr,.gbqfba-hvr,.gbqfbb-hvr{-webkit-box-shadow:0 1px 1px rgba(0,0,0,.1);-moz-box-shadow:0 1px 1px rgba(0,0,0,.1);box-shadow:0 1px 1px rgba(0,0,0,.1)}.gbqfb::-moz-focus-inner,.gbqfba::-moz-focus-inner,.gbqfbb::-moz-focus-inner{border:0}.gbqfba,.gbqfbb{border:1px solid #dcdcdc;border-color:rgba(0,0,0,.1);color:#444 !important;font-size:11px}.gbqfb{background-color:#4d90fe;background-image:-webkit-gradient(linear,left top,left bottom,from(#4d90fe),to(#4787ed));background-image:-webkit-linear-gradient(top,#4d90fe,#4787ed);background-image:-moz-linear-gradient(top,#4d90fe,#4787ed);background-image:-ms-linear-gradient(top,#4d90fe,#4787ed);background-image:-o-linear-gradient(top,#4d90fe,#4787ed);background-image:linear-gradient(top,#4d90fe,#4787ed);filter:progid:DXImageTransform.Microsoft.gradient(startColorStr=\\'#4d90fe\\',EndColorStr=\\'#4787ed\\');border:1px solid #3079ed;color:#fff!important;margin:0 0}.gbqfb-hvr{border-color:#2f5bb7}.gbqfb-hvr:focus{border-color:#2f5bb7}.gbqfb-hvr,.gbqfb-hvr:focus{background-color:#357ae8;background-image:-webkit-gradient(linear,left top,left bottom,from(#4d90fe),to(#357ae8));background-image:-webkit-linear-gradient(top,#4d90fe,#357ae8);background-image:-moz-linear-gradient(top,#4d90fe,#357ae8);background-image:-ms-linear-gradient(top,#4d90fe,#357ae8);background-image:-o-linear-gradient(top,#4d90fe,#357ae8);background-image:linear-gradient(top,#4d90fe,#357ae8)}.gbqfb:active{background-color:inherit;-webkit-box-shadow:inset 0 1px 2px rgba(0, 0, 0, 0.3);-moz-box-shadow:inset 0 1px 2px rgba(0, 0, 0, 0.3);box-shadow:inset 0 1px 2px rgba(0, 0, 0, 0.3)}.gbqfba{background-color:#f5f5f5;background-image:-webkit-gradient(linear,left top,left bottom,from(#f5f5f5),to(#f1f1f1));background-image:-webkit-linear-gradient(top,#f5f5f5,#f1f1f1);background-image:-moz-linear-gradient(top,#f5f5f5,#f1f1f1);background-image:-ms-linear-gradient(top,#f5f5f5,#f1f1f1);background-image:-o-linear-gradient(top,#f5f5f5,#f1f1f1);background-image:linear-gradient(top,#f5f5f5,#f1f1f1);filter:progid:DXImageTransform.Microsoft.gradient(startColorStr=\\'#f5f5f5\\',EndColorStr=\\'#f1f1f1\\')}.gbqfba-hvr,.gbqfba-hvr:active{background-color:#f8f8f8;background-image:-webkit-gradient(linear,left top,left bottom,from(#f8f8f8),to(#f1f1f1));background-image:-webkit-linear-gradient(top,#f8f8f8,#f1f1f1);background-image:-moz-linear-gradient(top,#f8f8f8,#f1f1f1);background-image:-ms-linear-gradient(top,#f8f8f8,#f1f1f1);background-image:-o-linear-gradient(top,#f8f8f8,#f1f1f1);background-image:linear-gradient(top,#f8f8f8,#f1f1f1);filter:progid:DXImageTransform.Microsoft.gradient(startColorStr=\\'#f8f8f8\\',EndColorStr=\\'#f1f1f1\\')}.gbqfbb{background-color:#fff;background-image:-webkit-gradient(linear,left top,left bottom,from(#fff),to(#fbfbfb));background-image:-webkit-linear-gradient(top,#fff,#fbfbfb);background-image:-moz-linear-gradient(top,#fff,#fbfbfb);background-image:-ms-linear-gradient(top,#fff,#fbfbfb);background-image:-o-linear-gradient(top,#fff,#fbfbfb);background-image:linear-gradient(top,#fff,#fbfbfb);filter:progid:DXImageTransform.Microsoft.gradient(startColorStr=\\'#ffffff\\',EndColorStr=\\'#fbfbfb\\')}.gbqfbb-hvr,.gbqfbb-hvr:active{background-color:#fff;background-image:-webkit-gradient(linear,left top,left bottom,from(#fff),to(#f8f8f8));background-image:-webkit-linear-gradient(top,#fff,#f8f8f8);background-image:-moz-linear-gradient(top,#fff,#f8f8f8);background-image:-ms-linear-gradient(top,#fff,#f8f8f8);background-image:-o-linear-gradient(top,#fff,#f8f8f8);background-image:linear-gradient(top,#fff,#f8f8f8);filter:progid:DXImageTransform.Microsoft.gradient(startColorStr=\\'#ffffff\\',EndColorStr=\\'#f8f8f8\\')}.gbqfba-hvr,.gbqfba-hvr:active,.gbqfbb-hvr,.gbqfbb-hvr:active{border-color:#c6c6c6;-webkit-box-shadow:0 1px 1px rgba(0,0,0,.1);-moz-box-shadow:0 1px 1px rgba(0,0,0,.1);box-shadow:0 1px 1px rgba(0,0,0,.1);color:#222 !important}.gbqfba:active,.gbqfbb:active{-webkit-box-shadow:inset 0 1px 2px rgba(0,0,0,.1);-moz-box-shadow:inset 0 1px 2px rgba(0,0,0,.1);box-shadow:inset 0 1px 2px rgba(0,0,0,.1)} #gbmpas{max-height:220px}#gbmm{max-height:530px}.gbsb{-webkit-box-sizing:border-box;display:block;position:relative;*zoom:1}.gbsbic{overflow:auto}.gbsbis .gbsbt,.gbsbis .gbsbb{-webkit-mask-box-image:-webkit-gradient(linear,left top,right top,color-stop(0,rgba(0,0,0,.1)),color-stop(.5,rgba(0,0,0,.8)),color-stop(1,rgba(0,0,0,.1)));left:0;margin-right:0;opacity:0;position:absolute;width:100%}.gbsb .gbsbt:after,.gbsb .gbsbb:after{content:\"\";display:block;height:0;left:0;position:absolute;width:100%}.gbsbis .gbsbt{background:-webkit-gradient(linear,left top,left bottom,from(rgba(0,0,0,.2)),to(rgba(0,0,0,0)));background-image:-webkit-linear-gradient(top,rgba(0,0,0,.2),rgba(0,0,0,0));background-image:-moz-linear-gradient(top,rgba(0,0,0,.2),rgba(0,0,0,0));background-image:-ms-linear-gradient(top,rgba(0,0,0,.2),rgba(0,0,0,0));background-image:-o-linear-gradient(top,rgba(0,0,0,.2),rgba(0,0,0,0));background-image:linear-gradient(top,rgba(0,0,0,.2),rgba(0,0,0,0));height:6px;top:0}.gbsb .gbsbt:after{border-top:1px solid #ebebeb;border-color:rgba(0,0,0,.3);top:0}.gbsb .gbsbb{-webkit-mask-box-image:-webkit-gradient(linear,left top,right top,color-stop(0,rgba(0,0,0,.1)),color-stop(.5,rgba(0,0,0,.8)),color-stop(1,rgba(0,0,0,.1)));background:-webkit-gradient(linear,left bottom,left top,from(rgba(0,0,0,.2)),to(rgba(0,0,0,0)));background-image:-webkit-linear-gradient(bottom,rgba(0,0,0,.2),rgba(0,0,0,0));background-image:-moz-linear-gradient(bottom,rgba(0,0,0,.2),rgba(0,0,0,0));background-image:-ms-linear-gradient(bottom,rgba(0,0,0,.2),rgba(0,0,0,0));background-image:-o-linear-gradient(bottom,rgba(0,0,0,.2),rgba(0,0,0,0));background-image:linear-gradient(bottom,rgba(0,0,0,.2),rgba(0,0,0,0));bottom:0;height:4px}.gbsb .gbsbb:after{border-bottom:1px solid #ebebeb;border-color:rgba(0,0,0,.3);bottom:0}\\n  </style>\\n  <style>\\n   .star{float:left;margin-top:1px;overflow:hidden}.ybhkme{font-size:11px}.j{width:34em}body,td,div,.p,a{font-family:arial,sans-serif;tap-highlight-color:rgba(255,255,255,0)}body{margin:0}a img{border:0}#gbar{float:left;height:22px;padding-left:2px;font-size:13px}.gsfi,.gsfs{font-size:17px}.w,.q:active,.q:visited,.tbotu{color:#11c}a.gl{text-decoration:none}#foot{padding:0 8px}#foot a{white-space:nowrap}h3{font-size:16px;font-weight:normal;margin:0;padding:0}#res h3{display:inline}.hd{height:1px;position:absolute;top:-1000em}.g,body,html,table,.std{font-size:13px}.g{margin-bottom:23px;margin-top:0;zoom:1}ol li,ul li{list-style:none}h1,ol,ul,li{margin:0;padding:0}.e{margin:2px 0 0.75em}#leftnav a{text-decoration:none}#leftnav h2{color:#767676;font-weight:normal;margin:0}#nav{border-collapse:collapse;margin-top:17px;text-align:left}#nav td{text-align:center}.nobr{white-space:nowrap}.ts{border-collapse:collapse}.s br{display:none}.csb{display:block;height:40px}.images_table td{line-height:17px;padding-bottom:16px}.images_table img{border:1px solid #ccc;padding:1px}#tbd,#abd{display:block;min-height:1px}#abd{padding-top:3px}#tbd li{display:inline}.TIrJXe,.UU5df{margin-bottom:8px}#tbd .tbt li{display:block;font-size:13px;line-height:1.2;padding-bottom:3px;padding-left:8px;text-indent:-8px}.tbos,.b{font-weight:bold}em{font-weight:bold;font-style:normal}.mime{color:#1a0dab;font-weight:bold;font-size:x-small}.soc a{text-decoration:none}.soc{color:#808080}.ul7Gbc{color:#e7711b}#Db7kif{border:1px solid #e0e0e0;margin-left:-8px;margin-right:-8px;padding:15px 20px 5px}.mrH1y{font-size:32px}.PZ6wOb{color:#777;font-size:16px;margin-top:5px}.gwrItc{color:#777;font-size:14px;margin-top:5px}.SVob4e{border:1px solid #e0e0e0;padding-left:20px}.mYu5Hb{border:1px solid #e0e0e0;padding:5px 20px}#vob{border:1px solid #e0e0e0;padding:15px 15px}#ZjIC2e{font-size:22px;line-height:22px;padding-bottom:5px}#vob_st{line-height:1.24}.DfLGHd{border-width:1px;border-style:solid;border-color:#eee;background-color:#fff;position:relative;margin-bottom:26px}.uRIxYb,.NjTIc,.PftIHd,.DXoZmb{font-family:Arial;font-weight:lighter}.uRIxYb{margin-bottom:5px}.uRIxYb{font-size:xx-large}.NjTIc{font-size:medium}.PftIHd{font-size:large}.DXoZmb{font-size:small}.DfLGHd{margin-left:-8px;margin-right:-15px;padding:20px 20px 24px}.ernfsc{border-spacing:0px 2px}.D3VFNd{max-width:380px;text-overflow:ellipsis;white-space:nowrap;overflow:hidden;padding-left:0px}.c1Ujmc{padding-left:15px;white-space:nowrap;color:#666}.EjZtie{padding-left:0px}.SFt5jb{color:#212121}.Pt7r9e{color:#878787}.bkcGhd{color:#093}.fIP9ce{color:#c00}.LDBB9d{padding:1px}.gssb_a{padding:0 10px !important}.gssb_c{left:132px !important;right:295px !important;top:78px !important;width:572px !important}.gssb_c table{font-size:16px !important}.gssb_e{border:1px solid #ccc !important;border-top-color:#d9d9d9 !important}.gssb_i{background:#eee !important}#res{padding:0 8px}#rhs_block{padding-top:43px}#MCN7mf{padding:0 8px}#subform_ctrl{font-size:11px;height:17px;margin:5px 3px 0 17px}.taf{padding-bottom:3px}.WIkLp{padding:20px 0 3px}.FuZzl{padding:20px 0 3px}#topstuff .e{padding-bottom:6px}.slk .sld{width:250px}.slk{margin-bottom:-3px}.slk .zaHRAf{padding-bottom:5px;width:250px}.ac,.st{line-height:1.24}.mfr,#ofr{font-size:16px;margin:1em 0;padding:0 8px}.tZz6cc{padding-bottom:25px}.s{color:#545454}.ac{color:#545454}a.fl,.A8ul6 a,.osl a{color:#1a0dab;text-decoration:none}a:link{color:#1a0dab;cursor:pointer}#tads a:link{color:#1a0dab}#tads .soc a:link{color:#808080}a:visited{color:#61C}.blg a{text-decoration:none}cite,cite a:link{color:#006621;font-style:normal}#tads cite{color:#006621}.hJND5c{font-size:15px}.kvs{margin-top:1px}.hJND5c,.kvs,.slp{display:block;margin-bottom:1px}.kt{border-spacing:2px 0;margin-top:1px}.f{color:#808080}.L4Zeue{color:#093}h4.r{display:inline;font-size:small;font-weight:normal}.g{line-height:1.2}.NpC9Hd{display:inline-block;vertical-align:top;overflow:hidden;position:relative}.COi8F{margin:0 0 2em 1.3em}.COi8F li{list-style-type:disc}.osl{color:#777;margin-top:4px}.r{font-size:16px;margin:0}.spell{font-size:16px}.spell_orig{font-size:13px}.spell_orig a{text-decoration:none}.spell_orig b i{font-style:normal;font-weight:normal}.th{border:1px solid #ebebeb}.ts td{padding:0}.videobox{padding-bottom:3px}.slk a{text-decoration:none}#leftnav a:hover,#leftnav .tbou a:hover,.slk h3 a,a:hover{text-decoration:underline}#mn{table-layout:fixed;width:100%}#leftnav a{color:#222;font-size:13px}#leftnav{padding:43px 4px 4px 0}.tbos{color:#dd4b39}.tbt{margin-bottom:28px}#tbd{padding:0 0 0 16px}.tbou a{color:#222}#center_col{border:0;padding:0 8px 0 0}#topstuff .e{padding-top:3px}#topstuff .sp_cnt{padding-top:6px}#ab_name{color:#dd4b39;font:20px \"Arial\";margin-left:15px}#resultStats{color:#999;font-size:13px;overflow:hidden;white-space:nowrap}.mslg>td{padding-right:1px;padding-top:2px}.slk .sld{margin-top:2px;padding:5px 0 5px 5px}.fmp{padding-top:3px}.close_btn{overflow:hidden}#fll a,#bfl a{color:#1a0dab !important;margin:0 12px;text-decoration:none !important}.ng{color:#dd4b39}#mss{margin:.33em 0 0;padding:0;display:table}.NYKCib{display:inline-block;float:left;white-space:nowrap;padding-right:16px}#mss p{margin:0;padding-top:5px}.tn{border-bottom:1px solid #ebebeb;display:block;float:left;height:59px;line-height:54px;min-width:980px;padding:0;position:relative;white-space:nowrap}.qrSWbe,a.qrSWbe{color:#777;cursor:pointer;display:inline-block;font-family:arial,sans-serif;font-size:small;height:54px;line-height:54px;margin:0 8px;padding:0 8px;text-decoration:none;white-space:nowrap}.tnuiC{border-bottom:3px solid #dd4b39;color:#dd4b39;font-weight:bold;margin:2px 8px 0}a.KDZjCd:hover{color:black;text-decoration:none;white-space:nowrap}body{margin:0;padding:0}.sFTC8c{display:inline-block;float:left;margin-top:2px}.pqkqJe,a.pqkqJe{margin-left:1px}.sd{line-height:43px;padding:0 8px 0 9px}a:active,.osl a:active,.tbou a:active,#leftnav a:active{color:#dd4b39}#bfl a:active{color:#dd4b39 !important}.csb{background:url(/images/nav_logo229.png) no-repeat;overflow:hidden}.close_btn{background:url(/images/nav_logo229.png) no-repeat -138px -84px;height:14px;width:14px;display:block}.star{background:url(/images/nav_logo229.png) no-repeat -94px -245px;height:13px;width:65px;display:block}.star div,.star span{background:url(/images/nav_logo229.png) no-repeat 0 -245px;height:13px;width:65px;display:block}.Pj9hGd{display:inline;margin:0 3px;outline-color:transparent;overflow:hidden;position:relative}.Pj9hGd>div{outline-color:transparent}.CiacGf{border-color:transparent;border-style:solid dashed dashed;border-top-color:green;border-width:4px 4px 0 4px;cursor:pointer;display:inline-block;font-size:0;height:0;left:4px;line-height:0;outline-color:transparent;position:relative;top:-3px;width:0}.CiacGf{margin-top:-4px}.am-dropdown-menu{display:block;background:#fff;border:1px solid #dcdcdc;font-size:13px;left:0;padding:0;position:absolute;right:auto;white-space:nowrap;z-index:3}.mUpfKd{list-style:none;white-space:nowrap}.mUpfKd:hover{background-color:#eee}a.imx0m{color:#333;cursor:pointer;display:block;padding:7px 18px;text-decoration:none}#tads a.imx0m{color:#333}.sfbgg{background:#f1f1f1;border-bottom:1px solid #e5e5e5;height:71px}#logocont{z-index:1;padding-left:4px;padding-top:4px}#logo{display:block;height:49px;margin-top:12px;margin-left:12px;overflow:hidden;position:relative;width:137px}#logo img{left:0;position:absolute;top:-41px}.lst-a{background:white;border:1px solid #d9d9d9;border-top-color:silver;width:570px}.lst-a:hover{border:1px solid #b9b9b9;border-top:1px solid #a0a0a0;box-shadow:inset 0 1px 2px rgba(0,0,0,0.1);-webkit-box-shadow:inset 0 1px 2px rgba(0,0,0,0.1);-moz-box-shadow:inset 0 1px 2px rgba(0,0,0,0.1)}.lst-td{border:none;padding:0}.tia input{border-right:none;padding-right:0}.tia{padding-right:0}.lst{background:none;border:none;color:#000;font:16px arial,sans-serif;float:left;height:22px;margin:0;padding:3px 6px 2px 9px;vertical-align:top;width:100%;word-break:break-all}.lst:focus{outline:none}.lst-b{background:none;border:none;height:26px;padding:0 6px 0 12px}.ds{border-right:1px solid #e7e7e7;position:relative;height:29px;margin-left:17px;z-index:100}.lsbb{background-image:-moz-linear-gradient(top,#4d90fe,#4787ed);background-image:-ms-linear-gradient(top,#4d90fe,#4787ed);background-image:-o-linear-gradient(top,#4d90fe,#4787ed);background-image:-webkit-gradient(linear,left top,left bottom,from(#4d90fe),to(#4787ed));background-image:-webkit-linear-gradient(top,#4d90fe,#4787ed);background-image:linear-gradient(top,#4d90fe,#4787ed);border:1px solid #3079ed;border-radius:2px;background-color:#4d90fe;height:27px;width:68px}.lsbb:hover{background-image:-moz-linear-gradient(top,#4d90fe,#357ae8);background-image:-ms-linear-gradient(top,#4d90fe,#357ae8);background-image:-o-linear-gradient(top,#4d90fe,#357ae8);background-image:-webkit-gradient(linear,left top,left bottom,from(#4d90fe),to(#357ae8));background-image:-webkit-linear-gradient(top,#4d90fe,#357ae8);background-color:#357ae8;background-image:linear-gradient(top,#4d90fe,#357ae8);border:1px solid #2f5bb7}.lsb{background:transparent;background-position:0 -343px;background-repeat:repeat-x;border:none;color:#000;cursor:default;font:15px arial,sans-serif;height:29px;margin:0;vertical-align:top;width:100%}.lsb:active{-moz-box-shadow:inset 0 1px 2px rgba(0,0,0,0.3);-webkit-box-shadow:inset 0 1px 2px rgba(0,0,0,0.3);box-shadow:inset 0 1px 2px rgba(0,0,0,0.3);background:transparent;color:transparent;overflow:hidden;position:relative;width:100%}.sbico{color:transparent;display:inline-block;height:15px;margin:0 auto;margin-top:2px;width:15px;overflow:hidden}\\n  </style>\\n  <script nonce=\"jx11PmRPcqec3WW0pPvZ7A==\">\\n   (function(){window.google={kEI:\\'1cdjW4XSMInIjwTmhqzQBA\\',kEXPI:\\'0,1353747,57,1958,1017,38,242,496,1219,481,2,147,5,294,364,22,51,188,146,100,349,417,71,2338651,268,159,32,329294,1294,12383,2349,2506,23561,4,9126,15248,867,6692,4069,1402,5281,1100,3335,2,2,4605,2196,368,549,664,2102,113,2201,3191,224,502,5,510,1195,136,130,1269,2473,1365,444,131,1119,2,578,728,311,295,1826,58,2,1,3,1297,1712,1376,505,730,377,1719,658,636,8,302,1268,773,1233,882,132,284,2,841,196,87,1414,287,1636,525,621,5,2,2,2298,136,2,55,3,1331,301,424,190,283,509,952,635,214,82,1344,69,444,91,406,107,3,333,130,1110,78,156,39,347,8,1003,81,7,1,2,25,463,620,29,708,275,6,278,128,451,7,63,568,1,1,917,297,98,432,77,162,439,97,921,28,327,103,477,150,1,84,239,86,29,164,7,44,176,36,169,53,64,116,353,50,130,168,23,4,3,111,25,601,374,262,177,579,40,34,2320718,3685999,2554,82,31114436\\',authuser:0,kscs:\\'c9c918f0_1cdjW4XSMInIjwTmhqzQBA\\',kGL:\\'US\\'};google.kHL=\\'en\\';})();google.time=function(){return(new Date).getTime()};(function(){google.lc=[];google.li=0;google.getEI=function(a){for(var b;a&&(!a.getAttribute||!(b=a.getAttribute(\"eid\")));)a=a.parentNode;return b||google.kEI};google.getLEI=function(a){for(var b=null;a&&(!a.getAttribute||!(b=a.getAttribute(\"leid\")));)a=a.parentNode;return b};google.https=function(){return\"https:\"==window.location.protocol};google.ml=function(){return null};google.wl=function(a,b){try{google.ml(Error(a),!1,b)}catch(d){}};google.log=function(a,b,d,c,g){if(a=google.logUrl(a,b,d,c,g)){b=new Image;var e=google.lc,f=google.li;e[f]=b;b.onerror=b.onload=b.onabort=function(){delete e[f]};google.vel&&google.vel.lu&&google.vel.lu(a);b.src=a;google.li=f+1}};google.logUrl=function(a,b,d,c,g){var e=\"\",f=google.ls||\"\";d||-1!=b.search(\"&ei=\")||(e=\"&ei=\"+google.getEI(c),-1==b.search(\"&lei=\")&&(c=google.getLEI(c))&&(e+=\"&lei=\"+c));c=\"\";!d&&google.cshid&&-1==b.search(\"&cshid=\")&&\"slh\"!=a&&(c=\"&cshid=\"+google.cshid);a=d||\"/\"+(g||\"gen_204\")+\"?atyp=i&ct=\"+a+\"&cad=\"+b+e+f+\"&zx=\"+google.time()+c;/^http:/i.test(a)&&google.https()&&(google.ml(Error(\"a\"),!1,{src:a,glmm:1}),a=\"\");return a};}).call(this);(function(){google.y={};google.x=function(a,b){if(a)var c=a.id;else{do c=Math.random();while(google.y[c])}google.y[c]=[a,b];return!1};google.lm=[];google.plm=function(a){google.lm.push.apply(google.lm,a)};google.lq=[];google.load=function(a,b,c){google.lq.push([[a],b,c])};google.loadAll=function(a,b){google.lq.push([a,b])};}).call(this);google.f={};(function(){var b={gen204:\"dcl\",clearcut:4};var c=[function(){google.c&&google.tick(\"load\",b)}];google.dclc=function(a){c.length?c.push(a):a()};function d(){for(var a;a=c.shift();)a()}window.addEventListener?(document.addEventListener(\"DOMContentLoaded\",d,!1),window.addEventListener(\"load\",d,!1)):window.attachEvent&&window.attachEvent(\"onload\",d);}).call(this);\\n  </script>\\n  <script nonce=\"jx11PmRPcqec3WW0pPvZ7A==\" type=\"text/javascript\">\\n   (function(){try{var e=this;var aa=function(a,b,c,d){d=d||{};d._sn=[\"cfg\",b,c].join(\".\");window.gbar.logger.ml(a,d)};var g=window.gbar=window.gbar||{},h=window.gbar.i=window.gbar.i||{},ba;function _tvn(a,b){a=parseInt(a,10);return isNaN(a)?b:a}function _tvf(a,b){a=parseFloat(a);return isNaN(a)?b:a}function _tvv(a){return!!a}function p(a,b,c){(c||g)[a]=b}g.bv={n:_tvn(\"2\",0),r:\"\",f:\".66.41.\",e:\"1300102,3700062,3700330,3700489,3700521\",m:_tvn(\"1\",1)}; function ca(a,b,c){var d=\"on\"+b;if(a.addEventListener)a.addEventListener(b,c,!1);else if(a.attachEvent)a.attachEvent(d,c);else{var f=a[d];a[d]=function(){var a=f.apply(this,arguments),b=c.apply(this,arguments);return void 0==a?b:void 0==b?a:b&&a}}}var da=function(a){return function(){return g.bv.m==a}},ea=da(1),fa=da(2);p(\"sb\",ea);p(\"kn\",fa);h.a=_tvv;h.b=_tvf;h.c=_tvn;h.i=aa;var q=window.gbar.i.i;var r=function(){},ha=function(){},ka=function(a){var b=new Image,c=ia;b.onerror=b.onload=b.onabort=function(){try{delete ja[c]}catch(d){}};ja[c]=b;b.src=a;ia=c+1},ja=[],ia=0;p(\"logger\",{il:ha,ml:r,log:ka});var u=window.gbar.logger;var v={},la={},w=[],ma=h.b(\"0.1\",.1),na=h.a(\"1\",!0),oa=function(a,b){w.push([a,b])},pa=function(a,b){v[a]=b},qa=function(a){return a in v},x={},A=function(a,b){x[a]||(x[a]=[]);x[a].push(b)},B=function(a){A(\"m\",a)},ra=function(a,b){var c=document.createElement(\"script\");c.src=a;c.async=na;Math.random()<ma&&(c.onerror=function(){c.onerror=null;r(Error(\"Bundle load failed: name=\"+(b||\"UNK\")+\" url=\"+a))});(document.getElementById(\"xjsc\")||document.getElementsByTagName(\"body\")[0]|| document.getElementsByTagName(\"head\")[0]).appendChild(c)},D=function(a){for(var b=0,c;(c=w[b])&&c[0]!=a;++b);!c||c[1].l||c[1].s||(c[1].s=!0,sa(2,a),c[1].url&&ra(c[1].url,a),c[1].libs&&C&&C(c[1].libs))},ta=function(a){A(\"gc\",a)},ua=null,va=function(a){ua=a},sa=function(a,b,c){if(ua){a={t:a,b:b};if(c)for(var d in c)a[d]=c[d];try{ua(a)}catch(f){}}};p(\"mdc\",v);p(\"mdi\",la);p(\"bnc\",w);p(\"qGC\",ta);p(\"qm\",B);p(\"qd\",x);p(\"lb\",D);p(\"mcf\",pa);p(\"bcf\",oa);p(\"aq\",A);p(\"mdd\",\"\"); p(\"has\",qa);p(\"trh\",va);p(\"tev\",sa);if(h.a(\"m;/_/scs/abc-static/_/js/k=gapi.gapi.en.yK0z3MKtgaU.O/m=__features__/rt=j/d=1/rs=AHpOoo-SafOYj4n3budMysbWxppU-lxJeg\")){var F=function(a,b){return wa?a||b:b},xa=h.a(\"1\"),ya=h.a(\"\"),za=h.a(\"\"),wa=h.a(\"\"),Aa=window.gapi=F(window.gapi,{}),Ba=function(a,b){var c=function(){g.dgl(a,b)};xa?B(c):(A(\"gl\",c),D(\"gl\"))},Ca={},Da=function(a){a=a.split(\":\");for(var b;(b=a.pop())&&Ca[b];);return!b},C=function(a){function b(){for(var b=a.split(\":\"),d=0,f;f=b[d];++d)Ca[f]=1;for(b=0;d=w[b];++b)d=d[1],(f=d.libs)&&!d.l&&d.i&& Da(f)&&d.i()}g.dgl(a,b)},G=window.___jsl=F(window.___jsl,{});G.h=F(G.h,\"m;/_/scs/abc-static/_/js/k=gapi.gapi.en.yK0z3MKtgaU.O/m=__features__/rt=j/d=1/rs=AHpOoo-SafOYj4n3budMysbWxppU-lxJeg\");G.ms=F(G.ms,\"https://apis.google.com\");G.m=F(G.m,\"\");G.l=F(G.l,[]);xa||w.push([\"gl\",{url:\"//ssl.gstatic.com/gb/js/abc/glm_e7bb39a7e1a24581ff4f8d199678b1b9.js\"}]);var Ea={pu:ya,sh:\"\",si:za,hl:\"en\"};v.gl=Ea;wa?Aa.load||p(\"load\",Ba,Aa):p(\"load\",Ba,Aa);p(\"dgl\",Ba);p(\"agl\",Da);h.o=xa};var Fa=h.b(\"0.1\",.001),Ga=0; function _mlToken(a,b){try{if(1>Ga){Ga++;var c=a;b=b||{};var d=encodeURIComponent,f=[\"//www.google.com/gen_204?atyp=i&zx=\",(new Date).getTime(),\"&jexpid=\",d(\"28834\"),\"&srcpg=\",d(\"prop=1\"),\"&jsr=\",Math.round(1/Fa),\"&ogev=\",d(\"1cdjW8_uMYS0jwTj4pboAw\"),\"&ogf=\",g.bv.f,\"&ogrp=\",d(\"1\"),\"&ogv=\",d(\"206487222.0\"),\"&oggv=\"+d(\"es_plusone_gc_20180617.0_p0\"),\"&ogd=\",d(\"com\"),\"&ogc=\",d(\"USA\"),\"&ogl=\",d(\"en\")];b._sn&&(b._sn= \"og.\"+b._sn);for(var k in b)f.push(\"&\"),f.push(d(k)),f.push(\"=\"),f.push(d(b[k]));f.push(\"&emsg=\");f.push(d(c.name+\":\"+c.message));var l=f.join(\"\");Ha(l)&&(l=l.substr(0,2E3));var m=l;var n=window.gbar.logger._aem(a,m);ka(n)}}catch(t){}}var Ha=function(a){return 2E3<=a.length},Ia=function(a,b){return b};function Ja(a){r=a;p(\"_itl\",Ha,u);p(\"_aem\",Ia,u);p(\"ml\",r,u);a={};v.er=a}h.a(\"\")?Ja(function(a){throw a;}):h.a(\"1\")&&Math.random()<Fa&&Ja(_mlToken);var _E=\"left\",Ka=h.a(\"\"),J=function(a,b){var c=a.className;H(a,b)||(a.className+=(\"\"!=c?\" \":\"\")+b)},K=function(a,b){var c=a.className;b=new RegExp(\"\\\\\\\\s?\\\\\\\\b\"+b+\"\\\\\\\\b\");c&&c.match(b)&&(a.className=c.replace(b,\"\"))},H=function(a,b){b=new RegExp(\"\\\\\\\\b\"+b+\"\\\\\\\\b\");a=a.className;return!(!a||!a.match(b))},La=function(a,b){H(a,b)?K(a,b):J(a,b)},Ma=function(a,b){a[b]=function(c){var d=arguments;g.qm(function(){a[b].apply(this,d)})}},Na=function(){return\"1\"}, Oa=function(a){a=[\"//www.gstatic.com\",\"/og/_/js/d=1/k=\",\"og.og2.en_US.8o90Q1jvcz8.O\",\"/rt=j/m=\",a,\"/rs=\",\"AA2YrTtrEMX8tHNUxrW5Zf3KnK4jChYyag\"];Ka&&a.push(\"?host=www.gstatic.com&bust=og.og2.en_US.GzS4UEQnJWE.DU\");a=a.join(\"\");ra(a)};p(\"ca\",J);p(\"cr\",K);p(\"cc\",H);h.k=J;h.l=K;h.m=H;h.n=La;h.p=Oa;h.q=Ma;h.r=Na;var Pa=[\"gb_71\",\"gb_155\"],Qa;function Ra(a){Qa=a}function Sa(a){var b=Qa&&!a.href.match(/.*\\\\/accounts\\\\/ClearSID[?]/)&&encodeURIComponent(Qa());b&&(a.href=a.href.replace(/([?&]continue=)[^&]*/,\"$1\"+b))}function Ta(a){window.gApplication&&(a.href=window.gApplication.getTabUrl(a.href))}function Ua(a){try{var b=(document.forms[0].q||\"\").value;b&&(a.href=a.href.replace(/([?&])q=[^&]*|$/,function(a,d){return(d||\"&\")+\"q=\"+encodeURIComponent(b)}))}catch(c){q(c,\"sb\",\"pq\")}} var Va=function(){for(var a=[],b=0,c;c=Pa[b];++b)(c=document.getElementById(c))&&a.push(c);return a},Wa=function(){var a=Va();return 0<a.length?a[0]:null},Xa=function(){return document.getElementById(\"gb_70\")},L={},M={},Ya={},N={},O=void 0,cb=function(a,b){try{var c=document.getElementById(\"gb\");J(c,\"gbpdjs\");P();Za(document.getElementById(\"gb\"))&&J(c,\"gbrtl\");if(b&&b.getAttribute){var d=b.getAttribute(\"aria-owns\");if(d.length){var f=document.getElementById(d);if(f){var k=b.parentNode;if(O==d)O=void 0, K(k,\"gbto\");else{if(O){var l=document.getElementById(O);if(l&&l.getAttribute){var m=l.getAttribute(\"aria-owner\");if(m.length){var n=document.getElementById(m);n&&n.parentNode&&K(n.parentNode,\"gbto\")}}}$a(f)&&ab(f);O=d;J(k,\"gbto\")}}}}B(function(){g.tg(a,b,!0)});bb(a)}catch(t){q(t,\"sb\",\"tg\")}},db=function(a){B(function(){g.close(a)})},eb=function(a){B(function(){g.rdd(a)})},Za=function(a){var b,c=document.defaultView;c&&c.getComputedStyle?(a=c.getComputedStyle(a,\"\"))&&(b=a.direction):b=a.currentStyle? a.currentStyle.direction:a.style.direction;return\"rtl\"==b},gb=function(a,b,c){if(a)try{var d=document.getElementById(\"gbd5\");if(d){var f=d.firstChild,k=f.firstChild,l=document.createElement(\"li\");l.className=b+\" gbmtc\";l.id=c;a.className=\"gbmt\";l.appendChild(a);if(k.hasChildNodes()){c=[[\"gbkc\"],[\"gbf\",\"gbe\",\"gbn\"],[\"gbkp\"],[\"gbnd\"]];d=0;var m=k.childNodes.length;f=!1;for(var n=-1,t=0,E;E=c[t];t++){for(var U=0,I;I=E[U];U++){for(;d<m&&H(k.childNodes[d],I);)d++;if(I==b){k.insertBefore(l,k.childNodes[d]|| null);f=!0;break}}if(f){if(d+1<k.childNodes.length){var V=k.childNodes[d+1];H(V.firstChild,\"gbmh\")||fb(V,E)||(n=d+1)}else if(0<=d-1){var W=k.childNodes[d-1];H(W.firstChild,\"gbmh\")||fb(W,E)||(n=d)}break}0<d&&d+1<m&&d++}if(0<=n){var y=document.createElement(\"li\"),z=document.createElement(\"div\");y.className=\"gbmtc\";z.className=\"gbmt gbmh\";y.appendChild(z);k.insertBefore(y,k.childNodes[n])}g.addHover&&g.addHover(a)}else k.appendChild(l)}}catch(Eb){q(Eb,\"sb\",\"al\")}},fb=function(a,b){for(var c=b.length, d=0;d<c;d++)if(H(a,b[d]))return!0;return!1},hb=function(a,b,c){gb(a,b,c)},ib=function(a,b){gb(a,\"gbe\",b)},jb=function(){B(function(){g.pcm&&g.pcm()})},kb=function(){B(function(){g.pca&&g.pca()})},lb=function(a,b,c,d,f,k,l,m,n,t){B(function(){g.paa&&g.paa(a,b,c,d,f,k,l,m,n,t)})},mb=function(a,b){L[a]||(L[a]=[]);L[a].push(b)},nb=function(a,b){M[a]||(M[a]=[]);M[a].push(b)},ob=function(a,b){Ya[a]=b},pb=function(a,b){N[a]||(N[a]=[]);N[a].push(b)},bb=function(a){a.preventDefault&&a.preventDefault();a.returnValue= !1;a.cancelBubble=!0},qb=null,ab=function(a,b){P();if(a){rb(a,\"Opening&hellip;\");Q(a,!0);b=\"undefined\"!=typeof b?b:1E4;var c=function(){sb(a)};qb=window.setTimeout(c,b)}},tb=function(a){P();a&&(Q(a,!1),rb(a,\"\"))},sb=function(a){try{P();var b=a||document.getElementById(O);b&&(rb(b,\"This service is currently unavailable.%1$sPlease try again later.\",\"%1$s\"),Q(b,!0))}catch(c){q(c,\"sb\",\"sdhe\")}},rb=function(a,b,c){if(a&&b){var d=$a(a);if(d){if(c){d.innerHTML=\"\";b=b.split(c);c=0;for(var f;f=b[c];c++){var k=document.createElement(\"div\"); k.innerHTML=f;d.appendChild(k)}}else d.innerHTML=b;Q(a,!0)}}},Q=function(a,b){(b=void 0!==b?b:!0)?J(a,\"gbmsgo\"):K(a,\"gbmsgo\")},$a=function(a){for(var b=0,c;c=a.childNodes[b];b++)if(H(c,\"gbmsg\"))return c},P=function(){qb&&window.clearTimeout(qb)},ub=function(a){var b=\"inner\"+a;a=\"offset\"+a;return window[b]?window[b]:document.documentElement&&document.documentElement[a]?document.documentElement[a]:0},vb=function(){return!1},wb=function(){return!!O};p(\"so\",Wa);p(\"sos\",Va);p(\"si\",Xa);p(\"tg\",cb); p(\"close\",db);p(\"rdd\",eb);p(\"addLink\",hb);p(\"addExtraLink\",ib);p(\"pcm\",jb);p(\"pca\",kb);p(\"paa\",lb);p(\"ddld\",ab);p(\"ddrd\",tb);p(\"dderr\",sb);p(\"rtl\",Za);p(\"op\",wb);p(\"bh\",L);p(\"abh\",mb);p(\"dh\",M);p(\"adh\",nb);p(\"ch\",N);p(\"ach\",pb);p(\"eh\",Ya);p(\"aeh\",ob);ba=h.a(\"\")?Ta:Ua;p(\"qs\",ba);p(\"setContinueCb\",Ra);p(\"pc\",Sa);p(\"bsy\",vb);h.d=bb;h.j=ub;var xb={};v.base=xb;w.push([\"m\",{url:\"//ssl.gstatic.com/gb/js/sem_c87908b20b80e337d7767b3e66715ee0.js\"}]);g.sg={c:\"1\"};p(\"wg\",{rg:{}});var yb={tiw:h.c(\"15000\",0),tie:h.c(\"30000\",0)};v.wg=yb;var zb={thi:h.c(\"10000\",0),thp:h.c(\"180000\",0),tho:h.c(\"5000\",0),tet:h.b(\"0.5\",0)};v.wm=zb;if(h.a(\"1\")){var Ab=h.a(\"\");w.push([\"gc\",{auto:Ab,url:\"//ssl.gstatic.com/gb/js/abc/gci_91f30755d6a6b787dcc2a4062e6e9824.js\",libs:\"googleapis.client:plusone:gapi.iframes\"}]);var Bb={version:\"gci_91f30755d6a6b787dcc2a4062e6e9824.js\",index:\"\",lang:\"en\"};v.gc=Bb;var Cb=function(a){window.googleapis&&window.iframes?a&&a():(a&&ta(a),D(\"gc\"))};p(\"lGC\",Cb);h.a(\"1\")&&p(\"lPWF\",Cb)};window.__PVT=\"\";if(h.a(\"1\")&&h.a(\"1\")){var Db=function(a){Cb(function(){A(\"pw\",a);D(\"pw\")})};p(\"lPW\",Db);w.push([\"pw\",{url:\"//ssl.gstatic.com/gb/js/abc/pwm_45f73e4df07a0e388b0fa1f3d30e7280.js\"}]);var Fb=[],Gb=function(a){Fb[0]=a},Hb=function(a,b){b=b||{};b._sn=\"pw\";r(a,b)},Ib={signed:Fb,elog:Hb,base:\"https://plusone.google.com/u/0\",loadTime:(new Date).getTime()};v.pw=Ib;var Jb=function(a,b){var c=b.split(\".\");b=function(){var b=arguments;a(function(){for(var a=g,d=0,f=c.length-1;d<f;++d)a=a[c[d]];a[c[d]].apply(a,b)})};for(var d=g,f=0,k=c.length-1;f< k;++f)d=d[c[f]]=d[c[f]]||{};return d[c[f]]=b};Jb(Db,\"pw.clk\");Jb(Db,\"pw.hvr\");p(\"su\",Gb,g.pw)};var Kb=[1,2,3,4,5,6,9,10,11,13,14,28,29,30,34,35,37,38,39,40,41,42,43,48,49,500];var Lb=h.b(\"0.001\",1E-4),Mb=h.b(\"1\",1),Nb=!1,Ob=!1;if(h.a(\"1\")){var Pb=Math.random();Pb<Lb&&(Nb=!0);Pb<Mb&&(Ob=!0)}var R=null; function Qb(a,b){var c=Lb,d=Nb;var f=a;if(!R){R={};for(var k=0;k<Kb.length;k++){var l=Kb[k];R[l]=!0}}if(f=!!R[f])c=Mb,d=Ob;if(d){d=encodeURIComponent;if(g.rp){var m=g.rp();m=\"-1\"!=m?m:\"1\"}else m=\"1\";f=(new Date).getTime();k=d(\"28834\");l=d(\"1cdjW8_uMYS0jwTj4pboAw\");var n=g.bv.f,t=d(\"1\");m=d(m);c=Math.round(1/c);var E=d(\"206487222.0\"),U=\"&oggv=\"+d(\"es_plusone_gc_20180617.0_p0\"),I=d(\"com\"),V=d(\"en\"),W= d(\"USA\");var y=0;h.a(\"\")&&(y|=1);h.a(\"\")&&(y|=2);h.a(\"\")&&(y|=4);a=[\"//www.google.com/gen_204?atyp=i&zx=\",f,\"&oge=\",a,\"&ogex=\",k,\"&ogev=\",l,\"&ogf=\",n,\"&ogp=\",t,\"&ogrp=\",m,\"&ogsr=\",c,\"&ogv=\",E,U,\"&ogd=\",I,\"&ogl=\",V,\"&ogc=\",W,\"&ogus=\",y];if(b){\"ogw\"in b&&(a.push(\"&ogw=\"+b.ogw),delete b.ogw);f=[];for(z in b)0!=f.length&&f.push(\",\"),f.push(Rb(z)),f.push(\".\"),f.push(Rb(b[z]));var z=f.join(\"\");\"\"!=z&&(a.push(\"&ogad=\"),a.push(d(z)))}ka(a.join(\"\"))}} function Rb(a){\"number\"==typeof a&&(a+=\"\");return\"string\"==typeof a?a.replace(\".\",\"%2E\").replace(\",\",\"%2C\"):a}ha=Qb;p(\"il\",ha,u);var Sb={};v.il=Sb;var Tb=function(a,b,c,d,f,k,l,m,n,t){B(function(){g.paa(a,b,c,d,f,k,l,m,n,t)})},Ub=function(){B(function(){g.prm()})},Vb=function(a){B(function(){g.spn(a)})},Wb=function(a){B(function(){g.sps(a)})},Xb=function(a){B(function(){g.spp(a)})},Yb={\"27\":\"https://ssl.gstatic.com/gb/images/silhouette_24.png\",\"27\":\"https://ssl.gstatic.com/gb/images/silhouette_24.png\",\"27\":\"https://ssl.gstatic.com/gb/images/silhouette_24.png\"},Zb=function(a){return(a=Yb[a])||\"https://ssl.gstatic.com/gb/images/silhouette_24.png\"}, $b=function(){B(function(){g.spd()})};p(\"spn\",Vb);p(\"spp\",Xb);p(\"sps\",Wb);p(\"spd\",$b);p(\"paa\",Tb);p(\"prm\",Ub);mb(\"gbd4\",Ub); if(h.a(\"\")){var ac={d:h.a(\"\"),e:\"\",sanw:h.a(\"\"),p:\"https://ssl.gstatic.com/gb/images/silhouette_96.png\",cp:\"1\",xp:h.a(\"1\"),mg:\"%1$s (delegated)\",md:\"%1$s (default)\",mh:\"220\",s:\"1\",pp:Zb,ppl:h.a(\"\"),ppa:h.a(\"\"), ppm:\"Google+ page\"};v.prf=ac};var S,bc,T,cc,X=0,dc=function(a,b,c){if(a.indexOf)return a.indexOf(b,c);if(Array.indexOf)return Array.indexOf(a,b,c);for(c=null==c?0:0>c?Math.max(0,a.length+c):c;c<a.length;c++)if(c in a&&a[c]===b)return c;return-1},Y=function(a,b){return-1==dc(a,X)?(q(Error(X+\"_\"+b),\"up\",\"caa\"),!1):!0},fc=function(a,b){Y([1,2],\"r\")&&(S[a]=S[a]||[],S[a].push(b),2==X&&window.setTimeout(function(){b(ec(a))},0))},gc=function(a,b,c){if(Y([1],\"nap\")&&c){for(var d=0;d<c.length;d++)bc[c[d]]=!0;g.up.spl(a,b,\"nap\",c)}},hc= function(a,b,c){if(Y([1],\"aop\")&&c){if(T)for(var d in T)T[d]=T[d]&&-1!=dc(c,d);else for(T={},d=0;d<c.length;d++)T[c[d]]=!0;g.up.spl(a,b,\"aop\",c)}},ic=function(){try{if(X=2,!cc){cc=!0;for(var a in S)for(var b=S[a],c=0;c<b.length;c++)try{b[c](ec(a))}catch(d){q(d,\"up\",\"tp\")}}}catch(d){q(d,\"up\",\"mtp\")}},ec=function(a){if(Y([2],\"ssp\")){var b=!bc[a];T&&(b=b&&!!T[a]);return b}};cc=!1;S={};bc={};T=null;X=1; var jc=function(a){var b=!1;try{b=a.cookie&&a.cookie.match(\"PREF\")}catch(c){}return!b},kc=function(){try{return!!e.localStorage&&\"object\"==typeof e.localStorage}catch(a){return!1}},lc=function(a){return a&&a.style&&a.style.behavior&&\"undefined\"!=typeof a.load},mc=function(a,b,c,d){try{jc(document)||(d||(b=\"og-up-\"+b),kc()?e.localStorage.setItem(b,c):lc(a)&&(a.setAttribute(b,c),a.save(a.id)))}catch(f){f.code!=DOMException.QUOTA_EXCEEDED_ERR&&q(f,\"up\",\"spd\")}},nc=function(a,b,c){try{if(jc(document))return\"\"; c||(b=\"og-up-\"+b);if(kc())return e.localStorage.getItem(b);if(lc(a))return a.load(a.id),a.getAttribute(b)}catch(d){d.code!=DOMException.QUOTA_EXCEEDED_ERR&&q(d,\"up\",\"gpd\")}return\"\"},oc=function(a,b,c){a.addEventListener?a.addEventListener(b,c,!1):a.attachEvent&&a.attachEvent(\"on\"+b,c)},pc=function(a){for(var b=0,c;c=a[b];b++){var d=g.up;c=c in d&&d[c];if(!c)return!1}return!0},qc=function(a,b){try{if(jc(a))return-1;var c=a.cookie.match(/OGPC=([^;]*)/);if(c&&c[1]){var d=c[1].match(new RegExp(\"\\\\\\\\b\"+ b+\"-([0-9]+):\"));if(d&&d[1])return parseInt(d[1],10)}}catch(f){f.code!=DOMException.QUOTA_EXCEEDED_ERR&&q(f,\"up\",\"gcc\")}return-1};p(\"up\",{r:fc,nap:gc,aop:hc,tp:ic,ssp:ec,spd:mc,gpd:nc,aeh:oc,aal:pc,gcc:qc});var Z=function(a,b){a[b]=function(c){var d=arguments;g.qm(function(){a[b].apply(this,d)})}};Z(g.up,\"sl\");Z(g.up,\"si\");Z(g.up,\"spl\");Z(g.up,\"dpc\");Z(g.up,\"iic\");g.mcf(\"up\",{sp:h.b(\"0.01\",1),tld:\"com\",prid:\"1\"});function rc(){function a(){for(var b;(b=k[l++])&&\"m\"!=b[0]&&!b[1].auto;);b&&(sa(2,b[0]),b[1].url&&ra(b[1].url,b[0]),b[1].libs&&C&&C(b[1].libs));l<k.length&&setTimeout(a,0)}function b(){0<f--?setTimeout(b,0):a()}var c=h.a(\"1\"),d=h.a(\"\"),f=3,k=w,l=0,m=window.gbarOnReady;if(m)try{m()}catch(n){q(n,\"ml\",\"or\")}d?p(\"ldb\",a):c?ca(window,\"load\",b):b()}p(\"rdl\",rc);}catch(e){window.gbar&&gbar.logger&&gbar.logger.ml(e,{\"_sn\":\"cfg.init\"});}})(); (function(){try{var a=window.gbar;a.mcf(\"pm\",{p:\"\"});}catch(e){window.gbar&&gbar.logger&&gbar.logger.ml(e,{\"_sn\":\"cfg.init\"});}})(); (function(){try{var a=window.gbar;a.mcf(\"mm\",{s:\"1\"});}catch(e){window.gbar&&gbar.logger&&gbar.logger.ml(e,{\"_sn\":\"cfg.init\"});}})(); (function(){try{var d=window.gbar.i.i;var e=window.gbar;var f=e.i;var g=f.c(\"1\",0),h=/\\\\bgbmt\\\\b/,k=function(a){try{var b=document.getElementById(\"gb_\"+g),c=document.getElementById(\"gb_\"+a);b&&f.l(b,h.test(b.className)?\"gbm0l\":\"gbz0l\");c&&f.k(c,h.test(c.className)?\"gbm0l\":\"gbz0l\")}catch(l){d(l,\"sj\",\"ssp\")}g=a},m=e.qs,n=function(a){var b=a.href;var c=window.location.href.match(/.*?:\\\\/\\\\/[^\\\\/]*/)[0];c=new RegExp(\"^\"+c+\"/search\\\\\\\\?\");(b=c.test(b))&&!/(^|\\\\\\\\?|&)ei=/.test(a.href)&&(b=window.google)&&b.kEXPI&&(a.href+=\"&ei=\"+b.kEI)},p=function(a){m(a); n(a)},q=function(){if(window.google&&window.google.sn){var a=/.*hp$/;return a.test(window.google.sn)?\"\":\"1\"}return\"-1\"};e.rp=q;e.slp=k;e.qs=p;e.qsi=n;}catch(e){window.gbar&&gbar.logger&&gbar.logger.ml(e,{\"_sn\":\"cfg.init\"});}})(); (function(){try{var a=this;var b=window.gbar;var c=b.i;var d=c.a,e=c.c,f={cty:\"USA\",cv:\"206487222\",dbg:d(\"\"),ecv:\"0\",ei:e(\"1cdjW8_uMYS0jwTj4pboAw\"),ele:d(\"1\"),esr:e(\"0.1\"),evts:[\"mousedown\",\"touchstart\",\"touchmove\",\"wheel\",\"keydown\"],gbl:\"es_plusone_gc_20180617.0_p0\",hd:\"com\",hl:\"en\",irp:d(\"1\"),pid:e(\"1\"), snid:e(\"28834\"),to:e(\"300000\"),u:e(\"\"),vf:\".66.41.\"},g=f,h=[\"bndcfg\"],k=a;h[0]in k||\"undefined\"==typeof k.execScript||k.execScript(\"var \"+h[0]);for(var l;h.length&&(l=h.shift());)h.length||void 0===g?k=k[l]&&k[l]!==Object.prototype[l]?k[l]:k[l]={}:k[l]=g;}catch(e){window.gbar&&gbar.logger&&gbar.logger.ml(e,{\"_sn\":\"cfg.init\"});}})(); (function(){try{window.gbar.rdl();}catch(e){window.gbar&&gbar.logger&&gbar.logger.ml(e,{\"_sn\":\"cfg.init\"});}})();\\n  </script>\\n  <script nonce=\"jx11PmRPcqec3WW0pPvZ7A==\">\\n   (function(){google.sham=function(c){for(var d=c.parentElement,a=null,b=0;b<d.childNodes.length;b++){var e=d.childNodes[b];-1<(\" \"+e.className+\" \").indexOf(\" am-dropdown-menu \")&&(a=e)}\"none\"==a.style.display?(a.style.display=\"\",google.log(\"hpam\",\"&ved=\"+c.getAttribute(\"data-ved\"))):a.style.display=\"none\"};}).call(this);(function(){var b=[];google.jsc={xx:b,x:function(a){b.push(a)},mm:[],m:function(a){google.jsc.mm=a}};}).call(this);\\n  </script>\\n </head>\\n <body bgcolor=\"#ffffff\" class=\"hsrp\" marginheight=\"0\" marginwidth=\"0\" topmargin=\"0\">\\n  <div id=\"gb\">\\n   <script>\\n    window.gbar&&gbar.eli&&gbar.eli()\\n   </script>\\n   <div id=\"gbw\">\\n    <div id=\"gbz\">\\n     <span class=\"gbtcb\">\\n     </span>\\n     <ol class=\"gbtc\" id=\"gbzc\">\\n      <li class=\"gbt\">\\n       <a class=\"gbzt gbz0l gbp1\" href=\"https://www.google.com/webhp?tab=ww\" id=\"gb_1\" onclick=\"gbar.logger.il(1,{t:1});\">\\n        <span class=\"gbtb2\">\\n        </span>\\n        <span class=\"gbts\">\\n         Search\\n        </span>\\n       </a>\\n      </li>\\n      <li class=\"gbt\">\\n       <a class=\"gbzt\" href=\"https://www.google.com/search?hl=en&amp;tbm=isch&amp;source=og&amp;tab=wi\" id=\"gb_2\" onclick=\"gbar.logger.il(1,{t:2});\">\\n        <span class=\"gbtb2\">\\n        </span>\\n        <span class=\"gbts\">\\n         Images\\n        </span>\\n       </a>\\n      </li>\\n      <li class=\"gbt\">\\n       <a class=\"gbzt\" href=\"https://maps.google.com/maps?hl=en&amp;tab=wl\" id=\"gb_8\" onclick=\"gbar.logger.il(1,{t:8});\">\\n        <span class=\"gbtb2\">\\n        </span>\\n        <span class=\"gbts\">\\n         Maps\\n        </span>\\n       </a>\\n      </li>\\n      <li class=\"gbt\">\\n       <a class=\"gbzt\" href=\"https://play.google.com/?hl=en&amp;tab=w8\" id=\"gb_78\" onclick=\"gbar.logger.il(1,{t:78});\">\\n        <span class=\"gbtb2\">\\n        </span>\\n        <span class=\"gbts\">\\n         Play\\n        </span>\\n       </a>\\n      </li>\\n      <li class=\"gbt\">\\n       <a class=\"gbzt\" href=\"https://www.youtube.com/results?gl=US&amp;tab=w1\" id=\"gb_36\" onclick=\"gbar.logger.il(1,{t:36});\">\\n        <span class=\"gbtb2\">\\n        </span>\\n        <span class=\"gbts\">\\n         YouTube\\n        </span>\\n       </a>\\n      </li>\\n      <li class=\"gbt\">\\n       <a class=\"gbzt\" href=\"https://news.google.com/nwshp?hl=en&amp;tab=wn\" id=\"gb_5\" onclick=\"gbar.logger.il(1,{t:5});\">\\n        <span class=\"gbtb2\">\\n        </span>\\n        <span class=\"gbts\">\\n         News\\n        </span>\\n       </a>\\n      </li>\\n      <li class=\"gbt\">\\n       <a class=\"gbzt\" href=\"https://mail.google.com/mail/?tab=wm\" id=\"gb_23\" onclick=\"gbar.logger.il(1,{t:23});\">\\n        <span class=\"gbtb2\">\\n        </span>\\n        <span class=\"gbts\">\\n         Gmail\\n        </span>\\n       </a>\\n      </li>\\n      <li class=\"gbt\">\\n       <a class=\"gbzt\" href=\"https://drive.google.com/?tab=wo\" id=\"gb_49\" onclick=\"gbar.logger.il(1,{t:49});\">\\n        <span class=\"gbtb2\">\\n        </span>\\n        <span class=\"gbts\">\\n         Drive\\n        </span>\\n       </a>\\n      </li>\\n      <li class=\"gbt\">\\n       <a aria-haspopup=\"true\" aria-owns=\"gbd\" class=\"gbgt\" href=\"https://www.google.com/intl/en/options/\" id=\"gbztm\" onclick=\"gbar.tg(event,this)\">\\n        <span class=\"gbtb2\">\\n        </span>\\n        <span class=\"gbts gbtsa\" id=\"gbztms\">\\n         <span id=\"gbztms1\">\\n          More\\n         </span>\\n         <span class=\"gbma\">\\n         </span>\\n        </span>\\n       </a>\\n       <div aria-owner=\"gbztm\" class=\"gbm\" id=\"gbd\">\\n        <div class=\"gbmc gbsb gbsbis\" id=\"gbmmb\">\\n         <ol class=\"gbmcc gbsbic\" id=\"gbmm\">\\n          <li class=\"gbmtc\">\\n           <a class=\"gbmt\" href=\"https://www.google.com/calendar?tab=wc\" id=\"gb_24\" onclick=\"gbar.logger.il(1,{t:24});\">\\n            Calendar\\n           </a>\\n          </li>\\n          <li class=\"gbmtc\">\\n           <a class=\"gbmt\" href=\"https://translate.google.com/?hl=en&amp;tab=wT\" id=\"gb_51\" onclick=\"gbar.logger.il(1,{t:51});\">\\n            Translate\\n           </a>\\n          </li>\\n          <li class=\"gbmtc\">\\n           <a class=\"gbmt\" href=\"http://www.google.com/mobile/?hl=en&amp;tab=wD\" id=\"gb_17\" onclick=\"gbar.logger.il(1,{t:17});\">\\n            Mobile\\n           </a>\\n          </li>\\n          <li class=\"gbmtc\">\\n           <a class=\"gbmt\" href=\"https://www.google.com/search?hl=en&amp;tbo=u&amp;tbm=bks&amp;source=og&amp;tab=wp\" id=\"gb_10\" onclick=\"gbar.logger.il(1,{t:10});\">\\n            Books\\n           </a>\\n          </li>\\n          <li class=\"gbmtc\">\\n           <a class=\"gbmt\" href=\"https://www.google.com/search?hl=en&amp;tbo=u&amp;tbm=shop&amp;source=og&amp;tab=wf\" id=\"gb_6\" onclick=\"gbar.logger.il(1,{t:6});\">\\n            Shopping\\n           </a>\\n          </li>\\n          <li class=\"gbmtc\">\\n           <a class=\"gbmt\" href=\"https://www.blogger.com/?tab=wj\" id=\"gb_30\" onclick=\"gbar.logger.il(1,{t:30});\">\\n            Blogger\\n           </a>\\n          </li>\\n          <li class=\"gbmtc\">\\n           <a class=\"gbmt\" href=\"https://www.google.com/finance?tab=we\" id=\"gb_27\" onclick=\"gbar.logger.il(1,{t:27});\">\\n            Finance\\n           </a>\\n          </li>\\n          <li class=\"gbmtc\">\\n           <a class=\"gbmt\" href=\"https://photos.google.com/?tab=wq&amp;pageId=none\" id=\"gb_31\" onclick=\"gbar.logger.il(1,{t:31});\">\\n            Photos\\n           </a>\\n          </li>\\n          <li class=\"gbmtc\">\\n           <a class=\"gbmt\" href=\"https://www.google.com/search?hl=en&amp;tbo=u&amp;tbm=vid&amp;source=og&amp;tab=wv\" id=\"gb_12\" onclick=\"gbar.logger.il(1,{t:12});\">\\n            Videos\\n           </a>\\n          </li>\\n          <li class=\"gbmtc\">\\n           <a class=\"gbmt\" href=\"https://docs.google.com/document/?usp=docs_alc\" id=\"gb_25\" onclick=\"gbar.logger.il(1,{t:25});\">\\n            Docs\\n           </a>\\n          </li>\\n          <li class=\"gbmtc\">\\n           <div class=\"gbmt gbmh\">\\n           </div>\\n          </li>\\n          <li class=\"gbmtc\">\\n           <a class=\"gbmt\" href=\"https://www.google.com/intl/en/options/\" onclick=\"gbar.logger.il(1,{t:66});\">\\n            Even more »\\n           </a>\\n          </li>\\n         </ol>\\n         <div class=\"gbsbt\">\\n         </div>\\n         <div class=\"gbsbb\">\\n         </div>\\n        </div>\\n       </div>\\n      </li>\\n     </ol>\\n    </div>\\n    <div id=\"gbg\">\\n     <h2 class=\"gbxx\">\\n      Account Options\\n     </h2>\\n     <span class=\"gbtcb\">\\n     </span>\\n     <ol class=\"gbtc\">\\n      <li class=\"gbt\">\\n       <a class=\"gbgt\" href=\"https://accounts.google.com/ServiceLogin?hl=en&amp;passive=true&amp;continue=https://www.google.com/search%3Fq%3Dwww.al.com%2B%2522electric%2Bcars%2522\" id=\"gb_70\" onclick=\"gbar.logger.il(9,{l:\\'i\\'})\" target=\"_top\">\\n        <span class=\"gbtb2\">\\n        </span>\\n        <span class=\"gbts\" id=\"gbgs4\">\\n         <span id=\"gbi4s1\">\\n          Sign in\\n         </span>\\n        </span>\\n       </a>\\n      </li>\\n      <li class=\"gbt gbtb\">\\n       <span class=\"gbts\">\\n       </span>\\n      </li>\\n      <li class=\"gbt\">\\n       <a aria-haspopup=\"true\" aria-owns=\"gbd5\" class=\"gbgt\" href=\"http://www.google.com/preferences?hl=en\" id=\"gbg5\" onclick=\"gbar.tg(event,this)\" title=\"Options\">\\n        <span class=\"gbtb2\">\\n        </span>\\n        <span class=\"gbts\" id=\"gbgs5\">\\n         <span id=\"gbi5\">\\n         </span>\\n        </span>\\n       </a>\\n       <div aria-owner=\"gbg5\" class=\"gbm\" id=\"gbd5\">\\n        <div class=\"gbmc\">\\n         <ol class=\"gbmcc\" id=\"gbom\">\\n          <li class=\"gbkc gbmtc\">\\n           <a class=\"gbmt\" href=\"/preferences?hl=en\">\\n            Search settings\\n           </a>\\n          </li>\\n          <li class=\"gbmtc\">\\n           <div class=\"gbmt gbmh\">\\n           </div>\\n          </li>\\n          <li class=\"gbkp gbmtc\">\\n           <a class=\"gbmt\" href=\"http://www.google.com/history/optout?hl=en\">\\n            Web History\\n           </a>\\n          </li>\\n         </ol>\\n        </div>\\n       </div>\\n      </li>\\n     </ol>\\n    </div>\\n   </div>\\n   <div id=\"gbx3\">\\n   </div>\\n   <div id=\"gbx4\">\\n   </div>\\n   <script>\\n    window.gbar&&gbar.elp&&gbar.elp()\\n   </script>\\n  </div>\\n  <table border=\"0\" cellpadding=\"0\" cellspacing=\"0\" id=\"mn\" style=\"position:relative\">\\n   <tr>\\n    <th width=\"132\">\\n    </th>\\n    <th width=\"573\">\\n    </th>\\n    <th width=\"278\">\\n    </th>\\n    <th>\\n    </th>\\n   </tr>\\n   <tr>\\n    <td class=\"sfbgg\" valign=\"top\">\\n     <div id=\"logocont\">\\n      <h1>\\n       <a href=\"/webhp?hl=en\" id=\"logo\" style=\"background:url(/images/nav_logo229.png) no-repeat 0 -41px;height:37px;width:95px;display:block\" title=\"Go to Google Home\">\\n       </a>\\n      </h1>\\n     </div>\\n    </td>\\n    <td class=\"sfbgg\" colspan=\"2\" style=\"padding-left:0px\" valign=\"top\">\\n     <form action=\"/search\" id=\"tsf\" method=\"GET\" name=\"gs\" style=\"display:block;margin:0;background:none\">\\n      <table border=\"0\" cellpadding=\"0\" cellspacing=\"0\" style=\"margin-top:20px;position:relative\">\\n       <tr>\\n        <td>\\n         <div class=\"lst-a\">\\n          <table cellpadding=\"0\" cellspacing=\"0\">\\n           <tr>\\n            <td class=\"lst-td\" valign=\"bottom\" width=\"555\">\\n             <div style=\"position:relative;zoom:1\">\\n              <input autocomplete=\"off\" class=\"lst\" id=\"sbhost\" maxlength=\"2048\" name=\"q\" title=\"Search\" type=\"text\" value=\\'www.al.com \"electric cars\"\\'/>\\n             </div>\\n            </td>\\n           </tr>\\n          </table>\\n         </div>\\n        </td>\\n        <td>\\n         <div class=\"ds\">\\n          <div class=\"lsbb\">\\n           <button class=\"lsb\" name=\"btnG\" type=\"submit\" value=\"Search\">\\n            <span class=\"sbico\" style=\"background:url(/images/nav_logo229.png) no-repeat -36px -111px;height:14px;width:13px;display:block\">\\n            </span>\\n           </button>\\n          </div>\\n         </div>\\n        </td>\\n       </tr>\\n      </table>\\n     </form>\\n    </td>\\n    <td class=\"sfbgg\">\\n    </td>\\n   </tr>\\n   <tr style=\"position:relative\">\\n    <td>\\n     <div style=\"border-bottom:1px solid #ebebeb;height:59px\">\\n     </div>\\n    </td>\\n    <td colspan=\"2\">\\n     <div class=\"tn\">\\n      <div class=\"qrSWbe tnuiC sFTC8c pqkqJe\">\\n       All\\n      </div>\\n      <div class=\"sFTC8c\">\\n       <a class=\"qrSWbe KDZjCd\" href=\"/search?q=www.al.com+%22electric+cars%22&amp;prmd=ivns&amp;source=lnms&amp;tbm=isch&amp;sa=X&amp;ved=0ahUKEwjFkPi_9M_cAhUJ5IMKHWYDC0oQ_AUIBQ\">\\n        Images\\n       </a>\\n      </div>\\n      <div class=\"sFTC8c\">\\n       <a class=\"qrSWbe KDZjCd\" href=\"/search?q=www.al.com+%22electric+cars%22&amp;prmd=ivns&amp;source=lnms&amp;tbm=vid&amp;sa=X&amp;ved=0ahUKEwjFkPi_9M_cAhUJ5IMKHWYDC0oQ_AUIBg\">\\n        Videos\\n       </a>\\n      </div>\\n      <div class=\"sFTC8c\">\\n       <a class=\"qrSWbe KDZjCd\" href=\"/search?q=www.al.com+%22electric+cars%22&amp;prmd=ivns&amp;source=lnms&amp;tbm=nws&amp;sa=X&amp;ved=0ahUKEwjFkPi_9M_cAhUJ5IMKHWYDC0oQ_AUIBw\">\\n        News\\n       </a>\\n      </div>\\n      <div class=\"sFTC8c\">\\n       <a class=\"qrSWbe KDZjCd\" href=\"/search?q=www.al.com+%22electric+cars%22&amp;prmd=ivns&amp;source=lnms&amp;tbm=shop&amp;sa=X&amp;ved=0ahUKEwjFkPi_9M_cAhUJ5IMKHWYDC0oQ_AUICA\">\\n        Shopping\\n       </a>\\n      </div>\\n      <div class=\"sFTC8c\">\\n       <a class=\"qrSWbe KDZjCd\" href=\"https://maps.google.com/maps?q=www.al.com+%22electric+cars%22&amp;um=1&amp;ie=UTF-8&amp;sa=X&amp;ved=0ahUKEwjFkPi_9M_cAhUJ5IMKHWYDC0oQ_AUICQ\">\\n        Maps\\n       </a>\\n      </div>\\n      <div class=\"sFTC8c\">\\n       <a class=\"qrSWbe KDZjCd\" href=\"/search?q=www.al.com+%22electric+cars%22&amp;prmd=ivns&amp;source=lnms&amp;tbm=bks&amp;sa=X&amp;ved=0ahUKEwjFkPi_9M_cAhUJ5IMKHWYDC0oQ_AUICg\">\\n        Books\\n       </a>\\n      </div>\\n     </div>\\n     <div style=\"border-bottom:1px solid #ebebeb;height:59px\">\\n     </div>\\n    </td>\\n    <td>\\n     <div style=\"border-bottom:1px solid #ebebeb;height:59px\">\\n     </div>\\n    </td>\\n   </tr>\\n   <tbody id=\"desktop-search\">\\n    <style>\\n     .pCA4Bd,.pCA4Bd a:link,.pCA4Bd a:visited,a.pCA4Bd:link,a.pCA4Bd:visited{color:#808080}.AzrInc{color:#61C}.ellip{overflow:hidden;text-overflow:ellipsis;white-space:nowrap}.veoHfb{margin:0;font-weight:normal;font-size:0;line-height:0}#KsHht .b15sV,#D7Sjmd .b15sV{float:right}#KsHht .veoHfb,#D7Sjmd .veoHfb{position:relative;top:3px;right:4px}.RTUwJd{margin-bottom:23px}#KsHht{margin-bottom:6px;padding:0 8px 11px}#D7Sjmd{margin:-10px 0 11px;padding:9px 8px 12px}.ads-ad{color:#545454}.ads-ad a{text-decoration:none}.ads-ad a:hover,.ads-ad h3 a{text-decoration:underline}.ads-visurl{font-size:15px;margin-bottom:2px}.UdQCqe{display:inline-block;max-width:505px;overflow:hidden;text-overflow:ellipsis;vertical-align:bottom;white-space:nowrap}.ads-visurl .Z98Wse{margin-right:7px}.wQIfQ{overflow:hidden;max-height:38px}.XfY0Ec{overflow:hidden;max-height:32px}.ads-ad{color:#545454;line-height:1.24}.Z98Wse{background-color:#fff;border-radius:3px;border:1px solid #006621;color:#006621;display:inline-block;font-size:11px;padding:1px 3px 0 2px;line-height:11px;vertical-align:baseline}.mQiB1{display:inline-block;float:none;vertical-align:-1px;}.P1npG{margin-top:3px}\\n    </style>\\n    <tr>\\n     <td id=\"leftnav\" valign=\"top\">\\n      <div>\\n       <h2 class=\"hd\">\\n        Search Options\\n       </h2>\\n       <ul class=\"med\" id=\"tbd\">\\n        <li>\\n         <ul class=\"tbt\">\\n          <li class=\"tbos\" id=\"qdr_\">\\n           Any time\\n          </li>\\n          <li class=\"tbou\" id=\"qdr_h\">\\n           <a class=\"q\" href=\"/search?q=www.al.com+%22electric+cars%22&amp;prmd=ivns&amp;source=lnt&amp;tbs=qdr:h&amp;sa=X&amp;ved=0ahUKEwjFkPi_9M_cAhUJ5IMKHWYDC0oQpwUIDw\">\\n            Past hour\\n           </a>\\n          </li>\\n          <li class=\"tbou\" id=\"qdr_d\">\\n           <a class=\"q\" href=\"/search?q=www.al.com+%22electric+cars%22&amp;prmd=ivns&amp;source=lnt&amp;tbs=qdr:d&amp;sa=X&amp;ved=0ahUKEwjFkPi_9M_cAhUJ5IMKHWYDC0oQpwUIDw\">\\n            Past 24 hours\\n           </a>\\n          </li>\\n          <li class=\"tbou\" id=\"qdr_w\">\\n           <a class=\"q\" href=\"/search?q=www.al.com+%22electric+cars%22&amp;prmd=ivns&amp;source=lnt&amp;tbs=qdr:w&amp;sa=X&amp;ved=0ahUKEwjFkPi_9M_cAhUJ5IMKHWYDC0oQpwUIDw\">\\n            Past week\\n           </a>\\n          </li>\\n          <li class=\"tbou\" id=\"qdr_m\">\\n           <a class=\"q\" href=\"/search?q=www.al.com+%22electric+cars%22&amp;prmd=ivns&amp;source=lnt&amp;tbs=qdr:m&amp;sa=X&amp;ved=0ahUKEwjFkPi_9M_cAhUJ5IMKHWYDC0oQpwUIDw\">\\n            Past month\\n           </a>\\n          </li>\\n          <li class=\"tbou\" id=\"qdr_y\">\\n           <a class=\"q\" href=\"/search?q=www.al.com+%22electric+cars%22&amp;prmd=ivns&amp;source=lnt&amp;tbs=qdr:y&amp;sa=X&amp;ved=0ahUKEwjFkPi_9M_cAhUJ5IMKHWYDC0oQpwUIDw\">\\n            Past year\\n           </a>\\n          </li>\\n         </ul>\\n        </li>\\n        <li>\\n         <ul class=\"tbt\">\\n          <li class=\"tbos\" id=\"li_\">\\n           All results\\n          </li>\\n          <li class=\"tbou\" id=\"li_1\">\\n           <a class=\"q\" href=\"/search?q=www.al.com+%22electric+cars%22&amp;prmd=ivns&amp;source=lnt&amp;tbs=li:1&amp;sa=X&amp;ved=0ahUKEwjFkPi_9M_cAhUJ5IMKHWYDC0oQpwUIDw\">\\n            Verbatim\\n           </a>\\n          </li>\\n         </ul>\\n        </li>\\n       </ul>\\n      </div>\\n     </td>\\n     <td valign=\"top\">\\n      <div id=\"center_col\">\\n       <div class=\"sd\" id=\"resultStats\">\\n        About 2,020,000 results\\n       </div>\\n       <div id=\"res\">\\n        <div id=\"topstuff\">\\n        </div>\\n        <div id=\"search\">\\n         <div id=\"ires\">\\n          <ol>\\n           <div class=\"g\">\\n            <h3 class=\"r\">\\n             <a href=\"/url?q=https://www.al.com/news/index.ssf/2018/04/see_students_build_and_race_el.html&amp;sa=U&amp;ved=0ahUKEwjFkPi_9M_cAhUJ5IMKHWYDC0oQFggUMAA&amp;usg=AOvVaw0-qVW8BKvFlplJqseBs5QV\">\\n              See students build and race\\n              <b>\\n               electric cars\\n              </b>\\n              at Barber |\\n              <b>\\n               AL.com\\n              </b>\\n             </a>\\n            </h3>\\n            <div class=\"s\">\\n             <div class=\"hJND5c\" style=\"margin-bottom:2px\">\\n              <cite>\\n               https://www.\\n               <b>\\n                al\\n               </b>\\n               .com/news/.../see_students_build_and_race_\\n               <b>\\n                el\\n               </b>\\n               .html\\n              </cite>\\n              <div class=\"Pj9hGd\">\\n               \\u200e\\n               <div aria-expanded=\"false\" aria-haspopup=\"true\" data-ved=\"0ahUKEwjFkPi_9M_cAhUJ5IMKHWYDC0oQ7B0IFTAA\" onclick=\"google.sham(this);\" style=\"display:inline\" tabindex=\"0\">\\n                <span class=\"CiacGf\">\\n                </span>\\n               </div>\\n               <div class=\"am-dropdown-menu\" role=\"menu\" style=\"display:none\" tabindex=\"-1\">\\n                <ul>\\n                 <li class=\"mUpfKd\">\\n                  <a class=\"imx0m\" href=\"/url?q=http://webcache.googleusercontent.com/search%3Fq%3Dcache:PCfIlrCgwYkJ:https://www.al.com/news/index.ssf/2018/04/see_students_build_and_race_el.html%252Bwww.al.com%2B%2522electric%2Bcars%2522%26hl%3Den%26ct%3Dclnk&amp;sa=U&amp;ved=0ahUKEwjFkPi_9M_cAhUJ5IMKHWYDC0oQIAgXMAA&amp;usg=AOvVaw2-j3_xFLzGhJ-E-p824iq8\">\\n                   Cached\\n                  </a>\\n                 </li>\\n                </ul>\\n               </div>\\n              </div>\\n             </div>\\n             <span class=\"st\">\\n              Apr 30, 2018\\n              <b>\\n               ...\\n              </b>\\n              See\\n              <b>\\n               electric cars\\n              </b>\\n              race around the famed Barber Motorsports track. All of the\\n              <br/>\\n              <b>\\n               electric cars\\n              </b>\\n              were built by high school and college students.\\n             </span>\\n             <br/>\\n            </div>\\n           </div>\\n           <div class=\"g\">\\n            <h3 class=\"r\">\\n             <a href=\"/url?q=https://www.al.com/business/index.ssf/2017/10/electric_cars_self-driving_car.html&amp;sa=U&amp;ved=0ahUKEwjFkPi_9M_cAhUJ5IMKHWYDC0oQFggaMAE&amp;usg=AOvVaw3hyueHv3aIrEK0aIHIS7Yp\">\\n              <b>\\n               Electric cars\\n              </b>\\n              , self-driving cars - where is auto industry going? |\\n              <b>\\n               AL.com\\n              </b>\\n             </a>\\n            </h3>\\n            <div class=\"s\">\\n             <div class=\"hJND5c\" style=\"margin-bottom:2px\">\\n              <cite>\\n               https://www.\\n               <b>\\n                al\\n               </b>\\n               .com/business/.../\\n               <b>\\n                electric_cars\\n               </b>\\n               _self-driving_car.html\\n              </cite>\\n              <div class=\"Pj9hGd\">\\n               \\u200e\\n               <div aria-expanded=\"false\" aria-haspopup=\"true\" data-ved=\"0ahUKEwjFkPi_9M_cAhUJ5IMKHWYDC0oQ7B0IGzAB\" onclick=\"google.sham(this);\" style=\"display:inline\" tabindex=\"0\">\\n                <span class=\"CiacGf\">\\n                </span>\\n               </div>\\n               <div class=\"am-dropdown-menu\" role=\"menu\" style=\"display:none\" tabindex=\"-1\">\\n                <ul>\\n                 <li class=\"mUpfKd\">\\n                  <a class=\"imx0m\" href=\"/url?q=http://webcache.googleusercontent.com/search%3Fq%3Dcache:DBD23ccCWc8J:https://www.al.com/business/index.ssf/2017/10/electric_cars_self-driving_car.html%252Bwww.al.com%2B%2522electric%2Bcars%2522%26hl%3Den%26ct%3Dclnk&amp;sa=U&amp;ved=0ahUKEwjFkPi_9M_cAhUJ5IMKHWYDC0oQIAgdMAE&amp;usg=AOvVaw3BHIyeCDLyGfx8V0jvMhSE\">\\n                   Cached\\n                  </a>\\n                 </li>\\n                </ul>\\n               </div>\\n              </div>\\n             </div>\\n             <span class=\"st\">\\n              Oct 5, 2017\\n              <b>\\n               ...\\n              </b>\\n              Worldwide tightening of air quality regulations are one of the factors making auto\\n              <br/>\\n              companies pursue\\n              <b>\\n               electric cars\\n              </b>\\n              . That means a shift to 48 volt\\xa0...\\n             </span>\\n             <br/>\\n            </div>\\n           </div>\\n           <div class=\"g\">\\n            <h3 class=\"r\">\\n             <a href=\"/url?q=https://www.al.com/expo/erry-2018/04/7e9c50fe5f7963/index.html&amp;sa=U&amp;ved=0ahUKEwjFkPi_9M_cAhUJ5IMKHWYDC0oQFgggMAI&amp;usg=AOvVaw0wFY0pIXSsSI9hMndbWPgW\">\\n              <b>\\n               Electric cars\\n              </b>\\n              race around Barber Motorsports Park - Photo ... -\\n              <b>\\n               AL.com\\n              </b>\\n             </a>\\n            </h3>\\n            <div class=\"s\">\\n             <div class=\"hJND5c\" style=\"margin-bottom:2px\">\\n              <cite>\\n               https://www.\\n               <b>\\n                al\\n               </b>\\n               .com/expo/erry-2018/04/.../index.html\\n              </cite>\\n              <div class=\"Pj9hGd\">\\n               \\u200e\\n               <div aria-expanded=\"false\" aria-haspopup=\"true\" data-ved=\"0ahUKEwjFkPi_9M_cAhUJ5IMKHWYDC0oQ7B0IITAC\" onclick=\"google.sham(this);\" style=\"display:inline\" tabindex=\"0\">\\n                <span class=\"CiacGf\">\\n                </span>\\n               </div>\\n               <div class=\"am-dropdown-menu\" role=\"menu\" style=\"display:none\" tabindex=\"-1\">\\n                <ul>\\n                 <li class=\"mUpfKd\">\\n                  <a class=\"imx0m\" href=\"/url?q=http://webcache.googleusercontent.com/search%3Fq%3Dcache:jCUfVqsXE4wJ:https://www.al.com/expo/erry-2018/04/7e9c50fe5f7963/index.html%252Bwww.al.com%2B%2522electric%2Bcars%2522%26hl%3Den%26ct%3Dclnk&amp;sa=U&amp;ved=0ahUKEwjFkPi_9M_cAhUJ5IMKHWYDC0oQIAgjMAI&amp;usg=AOvVaw2sfjEu6rA5G3vZHoVPpqHR\">\\n                   Cached\\n                  </a>\\n                 </li>\\n                </ul>\\n               </div>\\n              </div>\\n             </div>\\n             <span class=\"st\">\\n              <b>\\n               Electric cars\\n              </b>\\n              race around Barber Motorsports Park. By Joe Songer | jsonger@\\n              <b>\\n               al.\\n              </b>\\n              <br/>\\n              <b>\\n               com\\n              </b>\\n              | Posted April 30, 2018 at 12:57 PM. 0 Comment.\\n              <b>\\n               al.com\\n              </b>\\n              ...\\n             </span>\\n             <br/>\\n            </div>\\n           </div>\\n           <div class=\"g\">\\n            <h3 class=\"r\">\\n             <a href=\"/url?q=https://www.al.com/news/index.ssf/2018/06/auburn_university_university_o.html&amp;sa=U&amp;ved=0ahUKEwjFkPi_9M_cAhUJ5IMKHWYDC0oQFgglMAM&amp;usg=AOvVaw2YqWwm5PYqH9cc_0gTfLwu\">\\n              Auburn,\\n              <b>\\n               Alabama\\n              </b>\\n              universities go greener with more electric car ...\\n             </a>\\n            </h3>\\n            <div class=\"s\">\\n             <div class=\"hJND5c\" style=\"margin-bottom:2px\">\\n              <cite>\\n               https://www.\\n               <b>\\n                al\\n               </b>\\n               .com/news/.../auburn_university_university_o.html\\n              </cite>\\n              <div class=\"Pj9hGd\">\\n               \\u200e\\n               <div aria-expanded=\"false\" aria-haspopup=\"true\" data-ved=\"0ahUKEwjFkPi_9M_cAhUJ5IMKHWYDC0oQ7B0IJjAD\" onclick=\"google.sham(this);\" style=\"display:inline\" tabindex=\"0\">\\n                <span class=\"CiacGf\">\\n                </span>\\n               </div>\\n               <div class=\"am-dropdown-menu\" role=\"menu\" style=\"display:none\" tabindex=\"-1\">\\n                <ul>\\n                 <li class=\"mUpfKd\">\\n                  <a class=\"imx0m\" href=\"/url?q=http://webcache.googleusercontent.com/search%3Fq%3Dcache:Re0ebYan3aAJ:https://www.al.com/news/index.ssf/2018/06/auburn_university_university_o.html%252Bwww.al.com%2B%2522electric%2Bcars%2522%26hl%3Den%26ct%3Dclnk&amp;sa=U&amp;ved=0ahUKEwjFkPi_9M_cAhUJ5IMKHWYDC0oQIAgoMAM&amp;usg=AOvVaw1YS2w7L-FpTebP65XmujfM\">\\n                   Cached\\n                  </a>\\n                 </li>\\n                </ul>\\n               </div>\\n              </div>\\n             </div>\\n             <span class=\"st\">\\n              Jun 21, 2018\\n              <b>\\n               ...\\n              </b>\\n              At the moment, there are two registered\\n              <b>\\n               electric cars\\n              </b>\\n              on Auburn\\'s campus and a\\n              <br/>\\n              handful registered on\\n              <b>\\n               Alabama\\'s\\n              </b>\\n              campus. Don Andre, director\\xa0...\\n             </span>\\n             <br/>\\n            </div>\\n           </div>\\n           <div class=\"g\">\\n            <h3 class=\"r\">\\n             <a href=\"/url?q=https://www.al.com/opinion/index.ssf/2016/07/alabama_drivers_find_happiness.html&amp;sa=U&amp;ved=0ahUKEwjFkPi_9M_cAhUJ5IMKHWYDC0oQFggrMAQ&amp;usg=AOvVaw3BO_QWKTSjKQoGkK0XhIQS\">\\n              <b>\\n               Alabama\\n              </b>\\n              drivers finding happiness in\\n              <b>\\n               electric cars\\n              </b>\\n              |\\n              <b>\\n               AL.com\\n              </b>\\n             </a>\\n            </h3>\\n            <div class=\"s\">\\n             <div class=\"hJND5c\" style=\"margin-bottom:2px\">\\n              <cite>\\n               https://www.\\n               <b>\\n                al\\n               </b>\\n               .com/opinion/.../\\n               <b>\\n                alabama\\n               </b>\\n               _drivers_find_happiness.html\\n              </cite>\\n              <div class=\"Pj9hGd\">\\n               \\u200e\\n               <div aria-expanded=\"false\" aria-haspopup=\"true\" data-ved=\"0ahUKEwjFkPi_9M_cAhUJ5IMKHWYDC0oQ7B0ILDAE\" onclick=\"google.sham(this);\" style=\"display:inline\" tabindex=\"0\">\\n                <span class=\"CiacGf\">\\n                </span>\\n               </div>\\n               <div class=\"am-dropdown-menu\" role=\"menu\" style=\"display:none\" tabindex=\"-1\">\\n                <ul>\\n                 <li class=\"mUpfKd\">\\n                  <a class=\"imx0m\" href=\"/url?q=http://webcache.googleusercontent.com/search%3Fq%3Dcache:FykQudRLFZ8J:https://www.al.com/opinion/index.ssf/2016/07/alabama_drivers_find_happiness.html%252Bwww.al.com%2B%2522electric%2Bcars%2522%26hl%3Den%26ct%3Dclnk&amp;sa=U&amp;ved=0ahUKEwjFkPi_9M_cAhUJ5IMKHWYDC0oQIAguMAQ&amp;usg=AOvVaw1ciZfEYGLm3FJyJdoPAI25\">\\n                   Cached\\n                  </a>\\n                 </li>\\n                </ul>\\n               </div>\\n              </div>\\n             </div>\\n             <span class=\"st\">\\n              Jul 11, 2016\\n              <b>\\n               ...\\n              </b>\\n              Two Birmingham-area electric vehicle owners share their experiences.\\n             </span>\\n             <br/>\\n            </div>\\n           </div>\\n           <div class=\"g\">\\n            <h3 class=\"r\">\\n             <a href=\"/url?q=https://www.al.com/business/index.ssf/2018/01/all_mercedes-benz_vehicles_to.html&amp;sa=U&amp;ved=0ahUKEwjFkPi_9M_cAhUJ5IMKHWYDC0oQFggxMAU&amp;usg=AOvVaw3qTmBf3E-01_27BlgUtLMl\">\\n              All Mercedes-Benz vehicles to have electric versions by 2022 |\\n              <b>\\n               AL.com\\n              </b>\\n             </a>\\n            </h3>\\n            <div class=\"s\">\\n             <div class=\"hJND5c\" style=\"margin-bottom:2px\">\\n              <cite>\\n               https://www.\\n               <b>\\n                al\\n               </b>\\n               .com/business/.../all_mercedes-benz_vehicles_to.html\\n              </cite>\\n              <div class=\"Pj9hGd\">\\n               \\u200e\\n               <div aria-expanded=\"false\" aria-haspopup=\"true\" data-ved=\"0ahUKEwjFkPi_9M_cAhUJ5IMKHWYDC0oQ7B0IMjAF\" onclick=\"google.sham(this);\" style=\"display:inline\" tabindex=\"0\">\\n                <span class=\"CiacGf\">\\n                </span>\\n               </div>\\n               <div class=\"am-dropdown-menu\" role=\"menu\" style=\"display:none\" tabindex=\"-1\">\\n                <ul>\\n                 <li class=\"mUpfKd\">\\n                  <a class=\"imx0m\" href=\"/url?q=http://webcache.googleusercontent.com/search%3Fq%3Dcache:r-OB9jrzzq8J:https://www.al.com/business/index.ssf/2018/01/all_mercedes-benz_vehicles_to.html%252Bwww.al.com%2B%2522electric%2Bcars%2522%26hl%3Den%26ct%3Dclnk&amp;sa=U&amp;ved=0ahUKEwjFkPi_9M_cAhUJ5IMKHWYDC0oQIAg0MAU&amp;usg=AOvVaw3XwmOkDA3JFu6Gvr48RMzn\">\\n                   Cached\\n                  </a>\\n                 </li>\\n                </ul>\\n               </div>\\n              </div>\\n             </div>\\n             <span class=\"st\">\\n              Jan 30, 2018\\n              <b>\\n               ...\\n              </b>\\n              More than ten models among the more than 50 electrified vehicles will be fully\\n              <br/>\\n              <b>\\n               electric cars\\n              </b>\\n              – in all segments, from smart to large SUVs,\\xa0...\\n             </span>\\n             <br/>\\n            </div>\\n           </div>\\n           <div class=\"g\">\\n            <h3 class=\"r\">\\n             <a href=\"/url?q=https://www.al.com/news/index.ssf/2015/11/electric_cars_on_display_in_ho.html&amp;sa=U&amp;ved=0ahUKEwjFkPi_9M_cAhUJ5IMKHWYDC0oQFgg3MAY&amp;usg=AOvVaw392u5Gw5KRRtvgbgG4xXSP\">\\n              <b>\\n               Electric cars\\n              </b>\\n              on display in Hoover Saturday; 20 models ... -\\n              <b>\\n               AL.com\\n              </b>\\n             </a>\\n            </h3>\\n            <div class=\"s\">\\n             <div class=\"hJND5c\" style=\"margin-bottom:2px\">\\n              <cite>\\n               https://www.\\n               <b>\\n                al\\n               </b>\\n               .com/news/.../\\n               <b>\\n                electric_cars\\n               </b>\\n               _on_display_in_ho.html\\n              </cite>\\n              <div class=\"Pj9hGd\">\\n               \\u200e\\n               <div aria-expanded=\"false\" aria-haspopup=\"true\" data-ved=\"0ahUKEwjFkPi_9M_cAhUJ5IMKHWYDC0oQ7B0IODAG\" onclick=\"google.sham(this);\" style=\"display:inline\" tabindex=\"0\">\\n                <span class=\"CiacGf\">\\n                </span>\\n               </div>\\n               <div class=\"am-dropdown-menu\" role=\"menu\" style=\"display:none\" tabindex=\"-1\">\\n                <ul>\\n                 <li class=\"mUpfKd\">\\n                  <a class=\"imx0m\" href=\"/url?q=http://webcache.googleusercontent.com/search%3Fq%3Dcache:3bln1MjSrYUJ:https://www.al.com/news/index.ssf/2015/11/electric_cars_on_display_in_ho.html%252Bwww.al.com%2B%2522electric%2Bcars%2522%26hl%3Den%26ct%3Dclnk&amp;sa=U&amp;ved=0ahUKEwjFkPi_9M_cAhUJ5IMKHWYDC0oQIAg6MAY&amp;usg=AOvVaw3fFE9hDQ4q5aHkuvU5yRoB\">\\n                   Cached\\n                  </a>\\n                 </li>\\n                </ul>\\n               </div>\\n              </div>\\n             </div>\\n             <span class=\"st\">\\n              Nov 18, 2015\\n              <b>\\n               ...\\n              </b>\\n              Organizers say at least 20 EVs will be on display, including models from Porsche,\\n              <br/>\\n              Tesla and BMW.\\n             </span>\\n             <br/>\\n            </div>\\n           </div>\\n           <div class=\"g\">\\n            <table class=\"ts\">\\n             <tr>\\n              <td colspan=\"2\">\\n               <h3 class=\"r\">\\n                <a href=\"/url?q=https://www.bloomberg.com/news/videos/2018-04-09/electric-cars-could-also-power-your-home-video&amp;sa=U&amp;ved=0ahUKEwjFkPi_9M_cAhUJ5IMKHWYDC0oQtwIIPjAH&amp;usg=AOvVaw18hj62mPt5qvlz8aZ3Pbm_\">\\n                 <b>\\n                  Electric Cars\\n                 </b>\\n                 Could Also Power Your Home – Bloomberg\\n                </a>\\n               </h3>\\n              </td>\\n             </tr>\\n             <tr>\\n              <td style=\"padding:4px 8px 0 0\" valign=\"top\" width=\"1\">\\n               <div class=\"th\" style=\"position:relative;overflow:hidden;width:116px;height:65px\">\\n                <a href=\"/url?q=https://www.bloomberg.com/news/videos/2018-04-09/electric-cars-could-also-power-your-home-video&amp;sa=U&amp;ved=0ahUKEwjFkPi_9M_cAhUJ5IMKHWYDC0oQuAIIPzAHUAE&amp;usg=AOvVaw1oPfBsLvxJs-z8BMHkg4Ye\">\\n                 <div style=\"margin-top:-11px\">\\n                  <img align=\"middle\" alt=\\'Video for www.al.com \"electric cars\"\\' src=\"https://encrypted-tbn3.gstatic.com/images?q=tbn:ANd9GcTUosOhR56PoA2AAUTnEISHicbFpjxCkOJ6PLhUedSh8RKrin5DQl-bLLl1aFo\" width=\"116\"/>\\n                 </div>\\n                 <div style=\"position:absolute;bottom:0;right:0;font-size:11px;color:#fff;background-color:#222;padding:1px 3px;text-decoration:none;font-weight:bold;text-align:right\">\\n                  ► 0:59\\n                 </div>\\n                </a>\\n               </div>\\n              </td>\\n              <td style=\"padding-top:1px\" valign=\"top\">\\n               <cite class=\"hJND5c\">\\n                https://www.bloomberg.com/news/videos/2018-04-09/\\n                <b>\\n                 electric-cars\\n                </b>\\n                -could-also-power-your-home-video\\n               </cite>\\n               <span class=\"st\">\\n                <span class=\"f\">\\n                 <span class=\"nobr\">\\n                  Apr 9, 2018\\n                 </span>\\n                 -\\n                 <span class=\"nobr\">\\n                  59 sec\\n                 </span>\\n                </span>\\n                <br/>\\n                Majid\\n                <b>\\n                 Al\\n                </b>\\n                Futtaim Expanding in Kenya, Egypt, Saudi Arabia, CEO Says · 03:34 ...\\n                <b>\\n                 Electric Cars\\n                </b>\\n                <b>\\n                 ...\\n                </b>\\n               </span>\\n              </td>\\n             </tr>\\n            </table>\\n           </div>\\n           <div class=\"g\">\\n            <table class=\"ts\">\\n             <tr>\\n              <td colspan=\"2\">\\n               <h3 class=\"r\">\\n                <a href=\"/url?q=https://www.youtube.com/watch%3Fv%3DzGFb6CcG0DA&amp;sa=U&amp;ved=0ahUKEwjFkPi_9M_cAhUJ5IMKHWYDC0oQtwIIQjAI&amp;usg=AOvVaw2Oemk4PB7nG88q9mMQPdbP\">\\n                 <b>\\n                  Electric cars\\n                 </b>\\n                 will come of age in 2018 | The Economist - YouTube\\n                </a>\\n               </h3>\\n              </td>\\n             </tr>\\n             <tr>\\n              <td style=\"padding:4px 8px 0 0\" valign=\"top\" width=\"1\">\\n               <div class=\"th\" style=\"position:relative;overflow:hidden;width:116px;height:65px\">\\n                <a href=\"/url?q=https://www.youtube.com/watch%3Fv%3DzGFb6CcG0DA&amp;sa=U&amp;ved=0ahUKEwjFkPi_9M_cAhUJ5IMKHWYDC0oQuAIIQzAIUAE&amp;usg=AOvVaw3JZuxcVQnEzbBypDHq_Uss\">\\n                 <div style=\"margin-top:-11px\">\\n                  <img align=\"middle\" alt=\\'Video for www.al.com \"electric cars\"\\' src=\"https://img.youtube.com/vi/zGFb6CcG0DA/default.jpg\" width=\"116\"/>\\n                 </div>\\n                 <div style=\"position:absolute;bottom:0;right:0;font-size:11px;color:#fff;background-color:#222;padding:1px 3px;text-decoration:none;font-weight:bold;text-align:right\">\\n                  ► 6:18\\n                 </div>\\n                </a>\\n               </div>\\n              </td>\\n              <td style=\"padding-top:1px\" valign=\"top\">\\n               <cite class=\"hJND5c\">\\n                https://www.youtube.com/watch?v=zGFb6CcG0DA\\n               </cite>\\n               <span class=\"st\">\\n                <span class=\"f\">\\n                 <span class=\"nobr\">\\n                  Oct 18, 2017\\n                 </span>\\n                 -\\n                 <span class=\"nobr\">\\n                  6 min\\n                 </span>\\n                 -\\n                 <span class=\"nobr\">\\n                  Uploaded by The Economist\\n                 </span>\\n                </span>\\n                <br/>\\n                Enter the Economist #OpenFuture contest: A minute to change the world. See  more here: https\\n                <b>\\n                 ...\\n                </b>\\n               </span>\\n              </td>\\n             </tr>\\n            </table>\\n           </div>\\n           <div class=\"g\">\\n            <table class=\"ts\">\\n             <tr>\\n              <td colspan=\"2\">\\n               <h3 class=\"r\">\\n                <a href=\"/url?q=https://www.cnbc.com/video/2017/01/31/now-you-can-fuel-electric-cars-with-nothing-but-the-sun.html&amp;sa=U&amp;ved=0ahUKEwjFkPi_9M_cAhUJ5IMKHWYDC0oQtwIIRjAJ&amp;usg=AOvVaw062rbKJoYs9X9_LhnoAW1s\">\\n                 Now you can fuel\\n                 <b>\\n                  electric cars\\n                 </b>\\n                 with nothing but the sun - CNBC.com\\n                </a>\\n               </h3>\\n              </td>\\n             </tr>\\n             <tr>\\n              <td style=\"padding:4px 8px 0 0\" valign=\"top\" width=\"1\">\\n               <div class=\"th\" style=\"position:relative;overflow:hidden;width:116px;height:65px\">\\n                <a href=\"/url?q=https://www.cnbc.com/video/2017/01/31/now-you-can-fuel-electric-cars-with-nothing-but-the-sun.html&amp;sa=U&amp;ved=0ahUKEwjFkPi_9M_cAhUJ5IMKHWYDC0oQuAIIRzAJUAE&amp;usg=AOvVaw3wkYTd5V2S0vcaEOhFmmUc\">\\n                 <div style=\"margin-top:-11px\">\\n                  <img align=\"middle\" alt=\\'Video for www.al.com \"electric cars\"\\' src=\"https://encrypted-tbn3.gstatic.com/images?q=tbn:ANd9GcRVKHg4rrTTT0BIgEMSukXF5BAbnpIW7_MFMAhKVvXj18VU5hlFg2fJ-Xe2sHBJ\" width=\"116\"/>\\n                 </div>\\n                 <div style=\"position:absolute;bottom:0;right:0;font-size:11px;color:#fff;background-color:#222;padding:1px 3px;text-decoration:none;font-weight:bold;text-align:right\">\\n                  ► 2:07\\n                 </div>\\n                </a>\\n               </div>\\n              </td>\\n              <td style=\"padding-top:1px\" valign=\"top\">\\n               <cite class=\"hJND5c\">\\n                https://www.cnbc.com/video/2017/01/31/now-you-can-fuel-\\n                <b>\\n                 electric-cars\\n                </b>\\n                -with-nothing-but-the-sun.html\\n               </cite>\\n               <span class=\"st\">\\n                <span class=\"f\">\\n                 <span class=\"nobr\">\\n                  Jan 31, 2017\\n                 </span>\\n                 -\\n                 <span class=\"nobr\">\\n                  2 min\\n                 </span>\\n                </span>\\n                <br/>\\n                Envision Solar created a charging station that can be dropped in a parking spot  to charge EVs\\n                <b>\\n                 ...\\n                </b>\\n               </span>\\n              </td>\\n             </tr>\\n            </table>\\n           </div>\\n          </ol>\\n         </div>\\n        </div>\\n       </div>\\n       <div class=\"C4eCVc\" id=\"D7Sjmd\">\\n        <ol>\\n         <li class=\"ads-ad\">\\n          <h3 class=\"ellip\">\\n           <a href=\"http://www.google.com/aclk?sa=l&amp;ai=DChcSEwi-jP2_9M_cAhULG2kKHcmiB24YABAAGgJpcQ&amp;sig=AOD64_35DnO-ClCWkfYRsb1CUUM30pfGKA&amp;ved=0ahUKEwjFkPi_9M_cAhUJ5IMKHWYDC0oQ0QwISg&amp;adurl=\">\\n            New 2018 Nissan® Electric Car | Official Dealer Locator\\n           </a>\\n          </h3>\\n          <div class=\"ads-visurl\">\\n           <span class=\"Z98Wse\">\\n            Ad\\n           </span>\\n           <cite class=\"UdQCqe\">\\n            www.choosenissan.com/Electric-Car\\n           </cite>\\n           \\u200e\\n           <div class=\"Pj9hGd\">\\n            <div aria-expanded=\"false\" aria-haspopup=\"true\" data-ved=\"0ahUKEwjFkPi_9M_cAhUJ5IMKHWYDC0oQ7B0ISw\" onclick=\"google.sham(this);\" style=\"display:inline\" tabindex=\"0\">\\n             <span class=\"CiacGf\">\\n             </span>\\n            </div>\\n            <div class=\"am-dropdown-menu\" role=\"menu\" style=\"display:none\" tabindex=\"-1\">\\n             <ul>\\n              <li class=\"mUpfKd\" style=\"margin:0\">\\n               <a class=\"imx0m\" href=\"/url?q=/settings/ads/preferences%3Fhl%3Den&amp;sa=U&amp;ved=0ahUKEwjFkPi_9M_cAhUJ5IMKHWYDC0oQgRMITQ&amp;usg=AOvVaw0NkAI_fBxeQXvBds3iPNzG\" target=\"_blank\">\\n                Why this ad?\\n               </a>\\n              </li>\\n             </ul>\\n            </div>\\n           </div>\\n          </div>\\n          <div class=\"pCA4Bd\">\\n           <span class=\"ul7Gbc\">\\n            4.4\\n           </span>\\n           <div class=\"mQiB1 star\">\\n            <div style=\"width:59px\">\\n            </div>\\n           </div>\\n           <a href=\"/shopping/seller?q=choosenissan.com&amp;hl=en&amp;sa=X&amp;ved=0ahUKEwjFkPi_9M_cAhUJ5IMKHWYDC0oQwQYITw\">\\n            advertiser rating\\n           </a>\\n          </div>\\n          <div class=\"ads-creative\">\\n           Build, Price &amp; Locate A Dealer in Your Area. Find Local Nissan® Offers Now! 107 Mile Range Per Charge. Zero Tailpipe Emissions. Virtually Silent Motor. 100% Electric. Never Buy Gas Again.\\n          </div>\\n          <div class=\"P1npG\">\\n           <a href=\"http://www.google.com/aclk?sa=l&amp;ai=DChcSEwi-jP2_9M_cAhULG2kKHcmiB24YABABGgJpcQ&amp;sig=AOD64_1Fyc-bXf84WebUZsbSaO1MV9wvbg&amp;ved=0ahUKEwjFkPi_9M_cAhUJ5IMKHWYDC0oQpigIUSgA&amp;adurl=\">\\n            Available Offers\\n           </a>\\n           -\\n           <a href=\"http://www.google.com/aclk?sa=l&amp;ai=DChcSEwi-jP2_9M_cAhULG2kKHcmiB24YABACGgJpcQ&amp;sig=AOD64_3iOxEGqkFfbeCfo3vnlhxM2rpJbA&amp;ved=0ahUKEwjFkPi_9M_cAhUJ5IMKHWYDC0oQpigIUigB&amp;adurl=\">\\n            Local Inventory\\n           </a>\\n           -\\n           <a href=\"http://www.google.com/aclk?sa=l&amp;ai=DChcSEwi-jP2_9M_cAhULG2kKHcmiB24YABADGgJpcQ&amp;sig=AOD64_1J2WWsa1KNeatuKjDOzzwZvOnBNA&amp;ved=0ahUKEwjFkPi_9M_cAhUJ5IMKHWYDC0oQpigIUygC&amp;adurl=\">\\n            Locate a Dealer\\n           </a>\\n           -\\n           <a href=\"http://www.google.com/aclk?sa=l&amp;ai=DChcSEwi-jP2_9M_cAhULG2kKHcmiB24YABAEGgJpcQ&amp;sig=AOD64_0iImhItJiiCUVXmMzgRbon7cVTgw&amp;ved=0ahUKEwjFkPi_9M_cAhUJ5IMKHWYDC0oQpigIVCgD&amp;adurl=\">\\n            Design Your Nissan\\n           </a>\\n          </div>\\n         </li>\\n        </ol>\\n       </div>\\n       <div style=\"clear:both;margin-bottom:17px;overflow:hidden\">\\n        <div style=\"font-size:16px;padding:0 8px 1px\">\\n         Searches related to\\n         <b>\\n          www.al.com \"electric cars\"\\n         </b>\\n        </div>\\n        <table border=\"0\" cellpadding=\"0\" cellspacing=\"0\">\\n         <tr>\\n          <td valign=\"top\">\\n           <p class=\"aw5cc\" style=\"margin:3px 8px\">\\n            <a href=\"/search?q=al+com+alabama&amp;sa=X&amp;ved=0ahUKEwjFkPi_9M_cAhUJ5IMKHWYDC0oQ1QIIVygA\">\\n             al com\\n             <b>\\n              alabama\\n             </b>\\n            </a>\\n           </p>\\n          </td>\\n          <td style=\"padding-left:10px\" valign=\"top\">\\n           <p class=\"aw5cc\" style=\"margin:3px 8px\">\\n            <a href=\"/search?q=al+com+app&amp;sa=X&amp;ved=0ahUKEwjFkPi_9M_cAhUJ5IMKHWYDC0oQ1QIIWCgB\">\\n             al com\\n             <b>\\n              app\\n             </b>\\n            </a>\\n           </p>\\n          </td>\\n         </tr>\\n         <tr>\\n          <td valign=\"top\">\\n           <p class=\"aw5cc\" style=\"margin:3px 8px\">\\n            <a href=\"/search?q=alabama+news+today&amp;sa=X&amp;ved=0ahUKEwjFkPi_9M_cAhUJ5IMKHWYDC0oQ1QIIWSgC\">\\n             <b>\\n              alabama news today\\n             </b>\\n            </a>\\n           </p>\\n          </td>\\n          <td style=\"padding-left:10px\" valign=\"top\">\\n           <p class=\"aw5cc\" style=\"margin:3px 8px\">\\n            <a href=\"/search?q=al+com+breaking+news&amp;sa=X&amp;ved=0ahUKEwjFkPi_9M_cAhUJ5IMKHWYDC0oQ1QIIWigD\">\\n             al com\\n             <b>\\n              breaking news\\n             </b>\\n            </a>\\n           </p>\\n          </td>\\n         </tr>\\n         <tr>\\n          <td valign=\"top\">\\n           <p class=\"aw5cc\" style=\"margin:3px 8px\">\\n            <a href=\"/search?q=what+happened+in+alabama+yesterday&amp;sa=X&amp;ved=0ahUKEwjFkPi_9M_cAhUJ5IMKHWYDC0oQ1QIIWygE\">\\n             <b>\\n              what happened in alabama yesterday\\n             </b>\\n            </a>\\n           </p>\\n          </td>\\n          <td style=\"padding-left:10px\" valign=\"top\">\\n           <p class=\"aw5cc\" style=\"margin:3px 8px\">\\n            <a href=\"/search?q=al+com+forums&amp;sa=X&amp;ved=0ahUKEwjFkPi_9M_cAhUJ5IMKHWYDC0oQ1QIIXCgF\">\\n             al com\\n             <b>\\n              forums\\n             </b>\\n            </a>\\n           </p>\\n          </td>\\n         </tr>\\n         <tr>\\n          <td valign=\"top\">\\n           <p class=\"aw5cc\" style=\"margin:3px 8px\">\\n            <a href=\"/search?q=what+is+going+on+in+alabama&amp;sa=X&amp;ved=0ahUKEwjFkPi_9M_cAhUJ5IMKHWYDC0oQ1QIIXSgG\">\\n             <b>\\n              what is going on in alabama\\n             </b>\\n            </a>\\n           </p>\\n          </td>\\n          <td style=\"padding-left:10px\" valign=\"top\">\\n           <p class=\"aw5cc\" style=\"margin:3px 8px\">\\n            <a href=\"/search?q=al+com+weather&amp;sa=X&amp;ved=0ahUKEwjFkPi_9M_cAhUJ5IMKHWYDC0oQ1QIIXigH\">\\n             al com\\n             <b>\\n              weather\\n             </b>\\n            </a>\\n           </p>\\n          </td>\\n         </tr>\\n        </table>\\n       </div>\\n      </div>\\n      <div id=\"foot\">\\n       <table align=\"center\" border=\"0\" cellpadding=\"0\" cellspacing=\"0\" id=\"nav\">\\n        <tr valign=\"top\">\\n         <td align=\"left\" class=\"b\">\\n          <span class=\"csb\" style=\"background-position:-24px 0;width:28px\">\\n          </span>\\n          <b>\\n          </b>\\n         </td>\\n         <td>\\n          <span class=\"csb\" style=\"background-position:-53px 0;width:20px\">\\n          </span>\\n          <b>\\n           1\\n          </b>\\n         </td>\\n         <td>\\n          <a class=\"fl\" href=\"/search?q=www.al.com+%22electric+cars%22&amp;prmd=ivns&amp;ei=1cdjW4XSMInIjwTmhqzQBA&amp;start=10&amp;sa=N\">\\n           <span class=\"csb\" style=\"background-position:-74px 0;width:20px\">\\n           </span>\\n           2\\n          </a>\\n         </td>\\n         <td>\\n          <a class=\"fl\" href=\"/search?q=www.al.com+%22electric+cars%22&amp;prmd=ivns&amp;ei=1cdjW4XSMInIjwTmhqzQBA&amp;start=20&amp;sa=N\">\\n           <span class=\"csb\" style=\"background-position:-74px 0;width:20px\">\\n           </span>\\n           3\\n          </a>\\n         </td>\\n         <td>\\n          <a class=\"fl\" href=\"/search?q=www.al.com+%22electric+cars%22&amp;prmd=ivns&amp;ei=1cdjW4XSMInIjwTmhqzQBA&amp;start=30&amp;sa=N\">\\n           <span class=\"csb\" style=\"background-position:-74px 0;width:20px\">\\n           </span>\\n           4\\n          </a>\\n         </td>\\n         <td>\\n          <a class=\"fl\" href=\"/search?q=www.al.com+%22electric+cars%22&amp;prmd=ivns&amp;ei=1cdjW4XSMInIjwTmhqzQBA&amp;start=40&amp;sa=N\">\\n           <span class=\"csb\" style=\"background-position:-74px 0;width:20px\">\\n           </span>\\n           5\\n          </a>\\n         </td>\\n         <td>\\n          <a class=\"fl\" href=\"/search?q=www.al.com+%22electric+cars%22&amp;prmd=ivns&amp;ei=1cdjW4XSMInIjwTmhqzQBA&amp;start=50&amp;sa=N\">\\n           <span class=\"csb\" style=\"background-position:-74px 0;width:20px\">\\n           </span>\\n           6\\n          </a>\\n         </td>\\n         <td>\\n          <a class=\"fl\" href=\"/search?q=www.al.com+%22electric+cars%22&amp;prmd=ivns&amp;ei=1cdjW4XSMInIjwTmhqzQBA&amp;start=60&amp;sa=N\">\\n           <span class=\"csb\" style=\"background-position:-74px 0;width:20px\">\\n           </span>\\n           7\\n          </a>\\n         </td>\\n         <td>\\n          <a class=\"fl\" href=\"/search?q=www.al.com+%22electric+cars%22&amp;prmd=ivns&amp;ei=1cdjW4XSMInIjwTmhqzQBA&amp;start=70&amp;sa=N\">\\n           <span class=\"csb\" style=\"background-position:-74px 0;width:20px\">\\n           </span>\\n           8\\n          </a>\\n         </td>\\n         <td>\\n          <a class=\"fl\" href=\"/search?q=www.al.com+%22electric+cars%22&amp;prmd=ivns&amp;ei=1cdjW4XSMInIjwTmhqzQBA&amp;start=80&amp;sa=N\">\\n           <span class=\"csb\" style=\"background-position:-74px 0;width:20px\">\\n           </span>\\n           9\\n          </a>\\n         </td>\\n         <td>\\n          <a class=\"fl\" href=\"/search?q=www.al.com+%22electric+cars%22&amp;prmd=ivns&amp;ei=1cdjW4XSMInIjwTmhqzQBA&amp;start=90&amp;sa=N\">\\n           <span class=\"csb\" style=\"background-position:-74px 0;width:20px\">\\n           </span>\\n           10\\n          </a>\\n         </td>\\n         <td class=\"b\" style=\"text-align:left\">\\n          <a class=\"fl\" href=\"/search?q=www.al.com+%22electric+cars%22&amp;prmd=ivns&amp;ei=1cdjW4XSMInIjwTmhqzQBA&amp;start=10&amp;sa=N\" style=\"text-align:left\">\\n           <span class=\"csb\" style=\"background-position:-96px 0;width:71px\">\\n           </span>\\n           <span style=\"display:block;margin-left:53px\">\\n            Next\\n           </span>\\n          </a>\\n         </td>\\n        </tr>\\n       </table>\\n       <p class=\"A8ul6\" id=\"bfl\" style=\"margin:19px 0 0;text-align:center\">\\n        <a href=\"/advanced_search?q=www.al.com+%22electric+cars%22&amp;prmd=ivns\">\\n         Advanced search\\n        </a>\\n        <a href=\"/support/websearch/bin/answer.py?answer=134479&amp;hl=en\">\\n         Search Help\\n        </a>\\n        <a href=\"/tools/feedback/survey/html?productId=196&amp;query=www.al.com+%22electric+cars%22&amp;hl=en\">\\n         Send feedback\\n        </a>\\n       </p>\\n       <div class=\"A8ul6\" id=\"fll\" style=\"margin:19px auto 19px auto;text-align:center\">\\n        <a href=\"/\">\\n         Google\\xa0Home\\n        </a>\\n        <a href=\"/intl/en/ads\">\\n         Advertising\\xa0Programs\\n        </a>\\n        <a href=\"/services\">\\n         Business Solutions\\n        </a>\\n        <a href=\"/intl/en/policies/privacy/\">\\n         Privacy\\n        </a>\\n        <a href=\"/intl/en/policies/terms/\">\\n         Terms\\n        </a>\\n        <a href=\"/intl/en/about.html\">\\n         About Google\\n        </a>\\n       </div>\\n      </div>\\n     </td>\\n     <td id=\"rhs_block\" valign=\"top\">\\n     </td>\\n    </tr>\\n   </tbody>\\n  </table>\\n  <script nonce=\"jx11PmRPcqec3WW0pPvZ7A==\" type=\"text/javascript\">\\n   (function(){var eventid=\\'1cdjW4XSMInIjwTmhqzQBA\\';google.kEI = eventid;})();\\n  </script>\\n  <script nonce=\"jx11PmRPcqec3WW0pPvZ7A==\" src=\"/xjs/_/js/k=xjs.hp.en_US.Ha8YXoSrZ7Q.O/m=sb_he,d/rt=j/d=1/rs=ACT90oGHoYRgTpvA_IDHgkK1fmyjyVuNKA\">\\n  </script>\\n  <script nonce=\"jx11PmRPcqec3WW0pPvZ7A==\" type=\"text/javascript\">\\n   google.ac&&google.ac.c({\"agen\":true,\"cgen\":true,\"client\":\"heirloom-serp\",\"dh\":true,\"dhqt\":true,\"ds\":\"\",\"ffql\":\"en\",\"fl\":true,\"host\":\"google.com\",\"isbh\":28,\"jsonp\":true,\"msgs\":{\"cibl\":\"Clear Search\",\"dym\":\"Did you mean:\",\"lcky\":\"I\\\\u0026#39;m Feeling Lucky\",\"lml\":\"Learn more\",\"oskt\":\"Input tools\",\"psrc\":\"This search was removed from your \\\\u003Ca href=\\\\\"/history\\\\\"\\\\u003EWeb History\\\\u003C/a\\\\u003E\",\"psrl\":\"Remove\",\"sbit\":\"Search by image\",\"srch\":\"Google Search\"},\"nds\":true,\"ovr\":{},\"pq\":\"www.al.com \\\\\"electric cars\\\\\"\",\"refpd\":true,\"rfs\":[\"al com alabama\",\"alabama news today\",\"what happened in alabama yesterday\",\"what is going on in alabama\",\"al com app\",\"al com breaking news\",\"al com forums\",\"al com weather\"],\"sbpl\":24,\"sbpr\":24,\"scd\":10,\"sce\":5,\"stok\":\"GZ3Ok3Eft9HgroFNWjbbfWdlxxQ\"})\\n  </script>\\n  <script nonce=\"jx11PmRPcqec3WW0pPvZ7A==\">\\n   (function(){window.google.cdo={height:0,width:0};(function(){var a=window.innerWidth,b=window.innerHeight;if(!a||!b){var c=window.document,d=\"CSS1Compat\"==c.compatMode?c.documentElement:c.body;a=d.clientWidth;b=d.clientHeight}a&&b&&(a!=google.cdo.width||b!=google.cdo.height)&&google.log(\"\",\"\",\"/client_204?&atyp=i&biw=\"+a+\"&bih=\"+b+\"&ei=\"+google.kEI);}).call(this);})();\\n  </script>\\n </body>\\n</html>'"
      ]
     },
     "execution_count": 7,
     "metadata": {},
     "output_type": "execute_result"
    }
   ],
   "source": [
    "trees[18]"
   ]
  },
  {
   "cell_type": "code",
   "execution_count": 8,
   "metadata": {
    "collapsed": false,
    "deletable": true,
    "editable": true
   },
   "outputs": [
    {
     "name": "stderr",
     "output_type": "stream",
     "text": [
      "/Users/jasmine.ngo/Library/Enthought/Canopy/edm/envs/User/lib/python3.5/site-packages/ipykernel_launcher.py:11: SettingWithCopyWarning: \n",
      "A value is trying to be set on a copy of a slice from a DataFrame\n",
      "\n",
      "See the caveats in the documentation: http://pandas.pydata.org/pandas-docs/stable/indexing.html#indexing-view-versus-copy\n",
      "  # This is added back by InteractiveShellApp.init_path()\n"
     ]
    },
    {
     "name": "stdout",
     "output_type": "stream",
     "text": [
      "http://www.latimes.com/business/autos/la-fi-hy-electric-cars-20171228-story.html\n",
      "http://www.latimes.com/business/autos/la-electric-cars-go-mainstream-sg-storygallery.html\n",
      "http://www.latimes.com/politics/la-na-pol-fuel-standards-fight-20180202-story.html\n",
      "http://www.latimes.com/business/technology/la-fi-tn-uber-electric-vehicles-20180619-story.html\n",
      "http://www.latimes.com/business/la-fi-hy-electric-vehicle-subsidies-20170828-htmlstory.html\n",
      "http://www.latimes.com/politics/essential/la-pol-ca-essential-politics-updates-gov-brown-california-will-put-5-1516999162-htmlstory.html\n",
      "http://www.latimes.com/business/hiltzik/la-fi-hiltzik-tesla-labor-20180615-story.html\n",
      "http://www.latimes.com/business/autos/la-fi-hy-auto-show-electric-cars-20171204-story.html\n",
      "http://www.latimes.com/business/autos/la-fi-agenda-electric-cars-20160411-snap-htmlstory.html\n",
      "http://www.latimes.com/politics/essential/la-pol-ca-essential-politics-updates-california-on-pace-to-meet-goal-of-1-5-1517253069-htmlstory.html\n",
      "https://www.sfchronicle.com/business/article/Electric-cars-make-inroads-in-California-but-12892613.php\n",
      "https://www.sfchronicle.com/business/article/California-and-New-York-City-We-ll-buy-more-13063383.php\n",
      "https://www.sfchronicle.com/business/article/The-top-electric-car-in-California-is-not-a-Tesla-12717630.php\n",
      "https://www.sfchronicle.com/sports/article/Formula-E-paves-way-for-electric-cars-on-and-off-13077138.php\n",
      "https://www.sfchronicle.com/business/article/PG-E-Tesla-team-up-on-big-batteries-13038571.php\n",
      "https://www.sfchronicle.com/business/article/Uber-s-new-plan-to-woo-drivers-It-s-electric-13005719.php\n",
      "https://www.sfchronicle.com/business/article/Energy-revolution-California-approves-massive-12957685.php\n",
      "https://www.sfchronicle.com/business/article/California-s-electric-car-program-may-be-9172190.php\n",
      "https://www.sfchronicle.com/business/article/Smart-traffic-lights-drones-electric-cars-find-12973514.php\n",
      "https://www.sfchronicle.com/business/article/For-drivers-without-garages-charging-a-big-12382288.php\n",
      "https://www.ocregister.com/2018/01/15/ford-goes-all-in-on-electric-cars-with-11-billion-investment/\n",
      "https://www.ocregister.com/2018/02/04/california-on-path-to-meet-goal-of-1-5-million-electric-cars-but-charging-stations-lag-behind/\n",
      "https://www.ocregister.com/2018/06/16/electric-and-autonomous-cars-will-change-way-california-pays-for-roads/\n",
      "https://www.ocregister.com/2017/11/09/tax-plan-would-hit-gov-browns-special-treatment-of-electric-cars/\n",
      "https://www.ocregister.com/2017/06/05/karma-delivers-glossy-luxury-car-to-first-customer/\n",
      "https://www.ocregister.com/2018/03/06/are-californias-poor-losing-out-in-states-drive-for-clean-energy-future/\n",
      "https://www.ocregister.com/2010/09/11/how-much-to-charge-electric-car/\n",
      "https://www.ocregister.com/2015/09/12/la-police-city-vehicles-go-green-with-160-new-electric-cars/\n",
      "https://www.ocregister.com/2017/12/22/karma-automotive-gears-up-to-go-global/\n",
      "https://www.ocregister.com/2014/02/06/new-challenge-for-electric-car-owners-staying-plugged-in/\n",
      "https://www.sfgate.com/news/media/Debunked-Electric-Cars-Are-Good-For-the-821011.php\n",
      "https://www.sfgate.com/business/article/How-electric-cars-can-create-the-biggest-12221101.php\n",
      "https://www.sfgate.com/business/article/For-future-electric-cars-a-faster-way-to-charge-10835908.php\n",
      "https://www.sfgate.com/business/article/Smart-traffic-lights-drones-electric-cars-find-12973514.php\n",
      "https://www.sacbee.com/opinion/op-ed/soapbox/article199755669.html\n",
      "https://www.sacbee.com/news/business/article214930805.html\n",
      "https://www.sacbee.com/news/local/transportation/article215835505.html\n",
      "https://www.sacbee.com/opinion/article213224349.html\n",
      "https://www.sacbee.com/opinion/opn-columns-blogs/foon-rhee/article183480251.html\n",
      "https://www.sacbee.com/opinion/editorials/article132100179.html\n",
      "https://www.sacbee.com/news/local/transportation/article158920754.html\n",
      "https://www.sacbee.com/news/business/article84149632.html\n",
      "https://www.sacbee.com/news/business/article215896055.html\n",
      "https://www.sacbee.com/opinion/opn-columns-blogs/foon-rhee/article118489508.html\n",
      "http://www.sfexaminer.com/electric-cars-sf-numbers/\n",
      "http://www.sfexaminer.com/sf-slows-charge-toward-electric-vehicles/\n",
      "http://www.sfexaminer.com/trumps-epa-formally-launches-rollback-fuel-economy-standards/\n",
      "http://www.sfexaminer.com/sfs-effort-lead-charge-promoting-electric-vehicles-met-cost-concerns/\n",
      "http://www.sfexaminer.com/electric-cars-searching-for-a-place-to-plug-in/\n",
      "http://www.sfexaminer.com/debate-electric-vehicle-mandate-highlights-failure-reduce-sfs-fleet/\n",
      "http://www.sfexaminer.com/air-district-offers-5-million-grants-public-electric-vehicle-charging-stations/\n",
      "http://www.sfexaminer.com/electrification-expands-san-francisco-streets-bay/\n",
      "http://www.sfexaminer.com/electric-bus-company-looks-transform-burlingame-transit/\n",
      "http://www.sfexaminer.com/bay-area-resists-trumps-assault-environment/\n",
      "https://www.mercurynews.com/tag/electric-cars/\n",
      "https://www.mercurynews.com/2017/12/01/bay-area-drivers-save-upwards-of-800-annually-on-fuel-alone-with-electric-cars-study-finds/\n",
      "https://www.mercurynews.com/2018/02/15/why-you-should-and-shouldnt-buy-an-electric-car/\n",
      "https://www.mercurynews.com/2018/01/26/brown-sets-goal-of-5-million-electric-vehicles-in-california-by-2030/\n",
      "https://www.mercurynews.com/2018/06/05/ev-reserved-parking-irritates-some-drivers-roadshow/\n",
      "https://www.mercurynews.com/2018/03/29/roadshow-electric-cars-not-as-likely-to-catch-fire-as-gas-powered-vehicles/\n",
      "https://www.mercurynews.com/2018/05/25/proposition-70-high-speed-rail-or-electric-cars-how-should-california-spend-billions-from-its-climate-program/\n",
      "https://www.mercurynews.com/2018/02/05/california-on-path-to-meet-goal-of-1-5-million-electric-cars-but-charging-stations-lag-behind/\n",
      "https://www.mercurynews.com/2017/06/28/new-bigger-incentives-for-electric-cars-could-be-ahead-in-california/\n",
      "https://www.mercurynews.com/2018/01/17/pge-launches-electric-vehicle-charging-network-with-7500-stations/\n",
      "https://www.fresnobee.com/news/business/article214930805.html\n",
      "https://www.fresnobee.com/news/local/article152466874.html\n",
      "https://www.fresnobee.com/news/local/article110708092.html\n",
      "https://www.fresnobee.com/news/business/article215822310.html\n",
      "https://www.pe.com/2017/06/05/karma-delivers-glossy-luxury-car-to-first-customer/\n",
      "https://www.pe.com/2015/06/16/moreno-valley-fisker-plans-to-build-cars-at-inland-plant/\n",
      "https://www.pe.com/2018/01/15/ford-goes-all-in-on-electric-cars-with-11-billion-investment/\n",
      "https://www.pe.com/2011/02/24/government-agencies-to-test-electric-cars/\n",
      "http://www.tuscaloosanews.com/news/20180204/mercedes-to-offer-electric-versions-of-all-vehicles\n",
      "http://www.tuscaloosanews.com/news/20170811/for-electric-cars-to-take-off-theyll-need-place-to-charge\n",
      "http://www.tuscaloosanews.com/news/20170921/vance-plant-to-produce-electric-suvs-will-create-600-jobs\n",
      "http://www.tuscaloosanews.com/photogallery/DA/20170921/PHOTOGALLERY/921009989/PH/1\n",
      "http://www.tuscaloosanews.com/news/20180702/tesla-makes-5000-model-3s-per-week-but-can-it-continue\n",
      "http://www.tuscaloosanews.com/news/20180706/us-stocks-snap-higher-despite-escalating-us-china-trade-tiff\n",
      "http://www.tuscaloosanews.com/news/20180707/how-trade-war-is-changing-minds-in-senate-battleground\n",
      "http://www.montgomeryadvertiser.com/story/money/business/2017/06/01/arbor-outlook-gas-lines-electric-cars/360122001/\n",
      "http://www.montgomeryadvertiser.com/story/money/business/2017/06/07/arbor-outlook-graduation-speech-wed-like-hear/378190001/\n",
      "http://www.montgomeryadvertiser.com/story/money/business/2017/06/12/norris-get-ready-massive-changes-alabamas-economy/389950001/\n",
      "http://www.montgomeryadvertiser.com/story/money/business/2017/07/28/mckinney-10-handy-ways-use-social-security-online/519705001/\n",
      "http://www.montgomeryadvertiser.com/story/money/business/2017/07/05/arbor-outlook-income-disparity-belies-californias-economic-success/451704001/\n",
      "https://www.montgomeryadvertiser.com/story/money/cars/2018/06/05/americas-best-selling-electric-vehicles/35439337/\n",
      "https://www.dothaneagle.com/enteprrise_ledger/news/alabama-power-testing-electric-cars/article_741e97b4-55b9-5349-b8e1-fe2968235554.html\n",
      "https://www.dothaneagle.com/news/ap/state/birmingham-airport-adds-electric-car-chargers/article_9174c0d0-53ae-5f4b-8323-dc3d67de39ba.html\n",
      "https://www.dothaneagle.com/bmw-to-build-car-plant-in-hungary-for-units-a/article_877c4b3e-3c46-51fa-bd86-3cf5b12e84af.html\n",
      "https://www.dothaneagle.com/news/ap/state/tesla-burns-million-in-cash-on-way-to-record-q/article_8f3f7034-193a-5353-8f4c-93e5a9dd9407.html\n",
      "https://www.dothaneagle.com/news/ap/state/ap-fact-check-fed-gov-t-overstates-claims-of-auto/article_352beaf4-6b71-5e87-8ca6-322ccab01f33.html\n",
      "https://www.dothaneagle.com/news/ap/business/us-tariffs-take-effect-china-retaliates/article_129500ff-707c-5b67-9da6-2114dc74f5d3.html\n",
      "https://www.dothaneagle.com/news/ap/business/report-china-russia-and-iran-conduct-economic-spying-on-us/article_1d623475-62eb-5ad9-b056-65886900ee2f.html\n",
      "https://www.dothaneagle.com/news/ap/business/the-latest-france-says-americans-will-be-hurt-by-us/article_4bb4f324-91a4-519f-b056-3bef84f4564f.html\n",
      "http://www.timesdaily.com/news/state/birmingham-airport-adds-electric-car-chargers/article_11c68959-2eb7-5060-a99e-debed9073769.html\n",
      "http://www.timesdaily.com/business/california-lawmakers-unplug-the-state-s-electric-car-program/article_d2cdc4ad-8810-526c-8854-83a6098b047d.html\n",
      "http://www.timesdaily.com/archives/a-case-for-flex-fuel-cars/article_4276b302-69fc-56e0-8b30-4ff3eea39daa.html\n",
      "http://www.timesdaily.com/business/report-china-russia-and-iran-conduct-economic-spying-on-us/article_aa4adeb5-bf55-5c8d-9f30-6dd8387617c0.html\n",
      "http://www.decaturdaily.com/sports/formula-e-paves-way-for-electric-cars-on-and-off/image_5ca623c6-e42d-5284-9850-eafa047d1a18.html\n",
      "http://www.decaturdaily.com/news/local/winners-and-losers-emerge-in-tariff-wars/article_894ae4e3-cd9a-58ab-bda6-82c4ee4567ab.html\n",
      "http://www.decaturdaily.com/getting-a-charge-out-of-the-new-volt/article_61cc37d3-8437-52c4-b388-0824435de178.html\n",
      "http://www.decaturdaily.com/news/limestone_county/limestone-farm-producing-solar-energy-another-under-construction/article_26badef6-c8f9-5576-ba98-f63f8b6e9041.html\n",
      "http://www.decaturdaily.com/business/china-says-it-must-counterattack-for-us-tariff-hike/article_76fd886a-7589-5e89-a842-4b913eecf165.html\n",
      "http://www.decaturdaily.com/business/us-tariffs-take-effect-china-warns-of-counterattack/article_946c48e1-7e0e-55ee-ac45-74ae6d97ece5.html\n",
      "http://www.decaturdaily.com/news/local/business-briefs/article_5c650e60-d358-5691-a588-2cb2e08e99ea.html\n",
      "http://www.decaturdaily.com/gallery/ula-strike/collection_d43b5735-2fd7-52e2-b3ea-2aa86c35e10b.html\n",
      "http://www.annistonstar.com/opinion/h-brandt-ayers-democracy-or-monarchy/article_07d51684-8d1c-54c5-a2a8-bd5b118be972.html\n",
      "https://www.annistonstar.com/news/state/alabama-lawmakers-to-study-self-driving-cars/article_cd305d88-dc43-11e6-9bb5-7703552bce03.html\n",
      "https://www.annistonstar.com/ten-islands-park/image_5a9e9dc4-610e-11e8-9128-d734a2dde6ad.html\n",
      "https://www.annistonstar.com/news/article_05061441-6532-5ac9-a6c9-25f4027c9744.html%3Fmode%3Djqm\n",
      "https://www.annistonstar.com/sports/outdoors-put-a-little-magic-in-your-muzzleloader/article_81f6a686-67bc-11e4-b6ec-b7ecbaa86c11.html\n",
      "https://www.annistonstar.com/news/jacksonville/jacksonville-city-council-rezones-property-for-townhouse-development/article_a04b0cc6-6560-11e8-8a1a-477950cf626f.html\n",
      "http://www.gadsdentimes.com/article/ZZ/20171117/news/311179970\n",
      "http://www.gadsdentimes.com/article/20091028/News/603208933\n",
      "http://www.gadsdentimes.com/article/DA/20180118/NEWS/180118348/GT/%25E2%2580%259D//www.googletagmanager.com/ns.html%3Fid%3DGTM-PXCWJQ%25E2%2580%259D\n",
      "http://www.gadsdentimes.com/news/20171025/nissan-executive-bows-to-apologize-for-inspections-scandal\n",
      "http://www.gadsdentimes.com/news/20170921/mercedes-benz-to-invest-1-billion-in-alabama-add-600-jobs\n",
      "http://www.gadsdentimes.com/news/20180723/limestone-farm-producing-solar-energy-another-under-construction\n",
      "http://www.gadsdentimes.com/zz/news/20180726/report-china-russia-and-iran-conduct-economic-spying-on-us\n",
      "http://www.gadsdentimes.com/article/20091106/ZNYT02/911063016%3FTitle%3DGrand-Plans-for-Rail-in-Denver-Hit-a-Wall-of-Fiscal-Realities\n",
      "https://www.al.com/news/index.ssf/2018/04/see_students_build_and_race_el.html\n",
      "https://www.al.com/business/index.ssf/2017/10/electric_cars_self-driving_car.html\n",
      "https://www.al.com/expo/erry-2018/04/7e9c50fe5f7963/index.html\n",
      "https://www.al.com/news/index.ssf/2018/06/auburn_university_university_o.html\n",
      "https://www.al.com/opinion/index.ssf/2016/07/alabama_drivers_find_happiness.html\n",
      "https://www.al.com/business/index.ssf/2018/01/all_mercedes-benz_vehicles_to.html\n",
      "https://www.al.com/news/index.ssf/2015/11/electric_cars_on_display_in_ho.html\n"
     ]
    }
   ],
   "source": [
    "#NOW GET ALL THE LINKS FOR EACH SEARCH RESULT\n",
    "\n",
    "#create an array for the searched result\n",
    "#from numpy.random import randn\n",
    "#stories = randn(len(sources),num_articles)\n",
    "\n",
    "#now get the links\n",
    "\n",
    "df['links']=\"\"\n",
    "for i in range(len(df)):\n",
    "    df['links'][i]=[]\n",
    "    tree = trees[i]\n",
    "    x1=-1\n",
    "    x2=-1\n",
    "    \n",
    "    #scrape all the http://\n",
    "    while True: \n",
    "        root_link = \"?q=http://\" + df['newspaper'][i]\n",
    "        x1 = tree.find(root_link,x2+1)\n",
    "        x2 = tree.find(\"&\",x1+1)\n",
    "        if (x1== -1) or (x2==-1):\n",
    "            break\n",
    "        story = tree[x1+3:x2]\n",
    "        print(story)\n",
    "        df['links'][i].append(story)\n",
    "        \n",
    "    x1=-1\n",
    "    x2=-1  \n",
    "    #scrape all the https://\n",
    "    while True: \n",
    "        root_link = \"?q=https://\" + df['newspaper'][i]\n",
    "        x1 = tree.find(root_link,x2+1)\n",
    "        x2 = tree.find(\"&\",x1+1)\n",
    "        if (x1== -1) or (x2==-1):\n",
    "            break\n",
    "        story = tree[x1+3:x2]\n",
    "        print(story)\n",
    "        df['links'][i].append(story)\n"
   ]
  },
  {
   "cell_type": "code",
   "execution_count": 52,
   "metadata": {
    "collapsed": false,
    "deletable": true,
    "editable": true
   },
   "outputs": [],
   "source": [
    "#PRINT ALL THESE LINKS TO A FILE SO THAT I DON'T HAVE TO WORRY ABOUT LOSING ACCESS AGAIN\n",
    "\n",
    "df2 = pd.DataFrame(columns=['state','newspaper','link'])\n",
    "\n",
    "loc = 0\n",
    "for i in range(len(df)):\n",
    "    for j in range(len(df['links'][i])):\n",
    "        df2.loc[loc,'state'] = df.loc[i,'state']\n",
    "        df2.loc[loc,'newspaper'] = df.loc[i,'newspaper']\n",
    "        df2.loc[loc,'link'] = df.iloc[i]['links'][j]\n",
    "        loc = loc+1\n",
    "\n",
    "df2.to_csv('scrapped_list.csv')\n",
    "#NOW BAG ALL THE WORDS IN THE LISTS\n"
   ]
  },
  {
   "cell_type": "code",
   "execution_count": 53,
   "metadata": {
    "collapsed": false
   },
   "outputs": [
    {
     "data": {
      "text/html": [
       "<div>\n",
       "<style scoped>\n",
       "    .dataframe tbody tr th:only-of-type {\n",
       "        vertical-align: middle;\n",
       "    }\n",
       "\n",
       "    .dataframe tbody tr th {\n",
       "        vertical-align: top;\n",
       "    }\n",
       "\n",
       "    .dataframe thead th {\n",
       "        text-align: right;\n",
       "    }\n",
       "</style>\n",
       "<table border=\"1\" class=\"dataframe\">\n",
       "  <thead>\n",
       "    <tr style=\"text-align: right;\">\n",
       "      <th></th>\n",
       "      <th>Unnamed: 0</th>\n",
       "      <th>state</th>\n",
       "      <th>newspaper</th>\n",
       "      <th>link</th>\n",
       "    </tr>\n",
       "  </thead>\n",
       "  <tbody>\n",
       "    <tr>\n",
       "      <th>0</th>\n",
       "      <td>0</td>\n",
       "      <td>CA</td>\n",
       "      <td>www.latimes.com</td>\n",
       "      <td>http://www.latimes.com/business/autos/la-fi-hy...</td>\n",
       "    </tr>\n",
       "    <tr>\n",
       "      <th>1</th>\n",
       "      <td>1</td>\n",
       "      <td>CA</td>\n",
       "      <td>www.latimes.com</td>\n",
       "      <td>http://www.latimes.com/business/autos/la-elect...</td>\n",
       "    </tr>\n",
       "    <tr>\n",
       "      <th>2</th>\n",
       "      <td>2</td>\n",
       "      <td>CA</td>\n",
       "      <td>www.latimes.com</td>\n",
       "      <td>http://www.latimes.com/politics/la-na-pol-fuel...</td>\n",
       "    </tr>\n",
       "    <tr>\n",
       "      <th>3</th>\n",
       "      <td>3</td>\n",
       "      <td>CA</td>\n",
       "      <td>www.latimes.com</td>\n",
       "      <td>http://www.latimes.com/business/technology/la-...</td>\n",
       "    </tr>\n",
       "    <tr>\n",
       "      <th>4</th>\n",
       "      <td>4</td>\n",
       "      <td>CA</td>\n",
       "      <td>www.latimes.com</td>\n",
       "      <td>http://www.latimes.com/business/la-fi-hy-elect...</td>\n",
       "    </tr>\n",
       "  </tbody>\n",
       "</table>\n",
       "</div>"
      ],
      "text/plain": [
       "   Unnamed: 0 state        newspaper  \\\n",
       "0           0    CA  www.latimes.com   \n",
       "1           1    CA  www.latimes.com   \n",
       "2           2    CA  www.latimes.com   \n",
       "3           3    CA  www.latimes.com   \n",
       "4           4    CA  www.latimes.com   \n",
       "\n",
       "                                                link  \n",
       "0  http://www.latimes.com/business/autos/la-fi-hy...  \n",
       "1  http://www.latimes.com/business/autos/la-elect...  \n",
       "2  http://www.latimes.com/politics/la-na-pol-fuel...  \n",
       "3  http://www.latimes.com/business/technology/la-...  \n",
       "4  http://www.latimes.com/business/la-fi-hy-elect...  "
      ]
     },
     "execution_count": 53,
     "metadata": {},
     "output_type": "execute_result"
    }
   ],
   "source": [
    "df2 = pd.read_csv('scrapped_list.csv')\n",
    "df2.head()"
   ]
  },
  {
   "cell_type": "code",
   "execution_count": null,
   "metadata": {
    "collapsed": true,
    "deletable": true,
    "editable": true
   },
   "outputs": [],
   "source": []
  }
 ],
 "metadata": {
  "celltoolbar": "Slideshow",
  "kernelspec": {
   "display_name": "Python 3",
   "language": "python",
   "name": "python3"
  },
  "language_info": {
   "codemirror_mode": {
    "name": "ipython",
    "version": 3
   },
   "file_extension": ".py",
   "mimetype": "text/x-python",
   "name": "python",
   "nbconvert_exporter": "python",
   "pygments_lexer": "ipython3",
   "version": "3.5.2"
  }
 },
 "nbformat": 4,
 "nbformat_minor": 0
}
