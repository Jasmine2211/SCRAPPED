{
 "cells": [
  {
   "cell_type": "code",
   "execution_count": 6,
   "metadata": {
    "slideshow": {
     "slide_type": "slide"
    }
   },
   "outputs": [],
   "source": [
    "## all imports\n",
    "from IPython.display import HTML\n",
    "from IPython.display import Image\n",
    "import numpy as np\n",
    "#import urllib2\n",
    "import urllib.request\n",
    "import bs4 #this is beautiful soup\n",
    "from bs4 import BeautifulSoup\n",
    "import time\n",
    "import operator\n",
    "import socket\n",
    "#import cPickle\n",
    "import _pickle as cPickle\n",
    "import re # regular expressions\n",
    "\n",
    "from pandas import Series\n",
    "import pandas as pd\n",
    "from pandas import DataFrame\n",
    "\n",
    "import matplotlib\n",
    "import matplotlib.pyplot as plt\n",
    "%matplotlib inline\n",
    "\n",
    "import seaborn as sns\n",
    "sns.set_context(\"talk\")\n",
    "sns.set_style(\"white\")\n",
    "\n",
    "import numpy as np\n",
    "from numpy.random import randint\n",
    "\n",
    "import time\n",
    "from urllib.request import Request, urlopen\n",
    "\n",
    "#from secret import *\n",
    "\n",
    "#LIBRARY FOR NLP\n",
    "from newspaper import Article\n",
    "from gensim import corpora\n",
    "from gensim.models.tfidfmodel import TfidfModel\n",
    "from gensim.models.lsimodel import LsiModel\n",
    "from urllib.error import  URLError\n",
    "import newspaper\n",
    "\n",
    "from sklearn.decomposition import PCA\n",
    "from sklearn.preprocessing import LabelEncoder\n",
    "\n",
    "#WORKING WITH STRING\n",
    "import unicodedata\n",
    "\n",
    "#TOKENIZE WORDS\n",
    "import re\n",
    "from nltk.tokenize import RegexpTokenizer\n",
    "from nltk.corpus import stopwords\n",
    "from string import digits"
   ]
  },
  {
   "cell_type": "code",
   "execution_count": 7,
   "metadata": {},
   "outputs": [
    {
     "name": "stdout",
     "output_type": "stream",
     "text": [
      "Input the keywords you want to search from online local newspapers: marijuana\n"
     ]
    }
   ],
   "source": [
    "search_key_words = input(\"Input the keywords you want to search from online local newspapers: \")"
   ]
  },
  {
   "cell_type": "code",
   "execution_count": 10,
   "metadata": {},
   "outputs": [],
   "source": [
    "#READ THE LIST OF NEWSPAPERS\n",
    "df = pd.read_csv('local_newspapers.csv')\n",
    "df.head()\n",
    "\n",
    "#SET SEARCH KEY WORDS (WE GO FOR EXACT MATCH HERE)\n",
    "search_key_words = \"marijuana\"\n",
    "\n",
    "#SET MAX NUMBER OF ARTICLES PER NEWSPAPER\n",
    "num_articles = 10 \n",
    "\n",
    "#SET NUMBER OF TOPICS TO USE IN PCA LATER\n",
    "num_topics = 20\n",
    "max_n_grams = 2 #cluster of words \n",
    "min_words_article = 100 #minimum number of words and phrases in an article for it to be valid\n",
    "\n",
    "#CREATE STOP-WORDS LIST\n",
    "stoplist_tw=['get', 'got', 'hey', 'hmm', 'hoo', 'let', 'ooo', 'par',\n",
    "    'yer', 'didn', 'one', 'com', 'new', 'like', 'great',\n",
    "    'make', 'top', 'awesome', 'best', 'good', 'wow', 'yes',\n",
    "    'say', 'yay', 'would', 'thanks', 'thank', 'use',\n",
    "    'should', 'could','best','really','see','want','nice',\n",
    "    'while','know', 'trump', 'nyfw', 'iphone', 'hurricane',\n",
    "    'rt', 'per', 'espn', 'soundcloud', 'ten', 'count', \n",
    "    'advance', 'newsletter','thedish', 'nycwff', 'thefword',\n",
    "    'irma', 'fave', 'beer', 'stefan', 'aiga',\n",
    "    'aigatogether', 'aigadesignconf', 'aigadg', 'aigagala',\n",
    "    'ddc', 'tbt', 'whitneybiennial', 'calder', 'wknd',\n",
    "    'pipilottirist', 'live', 'watch', 'check', 'video',\n",
    "    'clip', 'today', 'tonight', 'week', 'year', 'month',\n",
    "    'time', 'last', 'night', 'morning', 'yesterday',\n",
    "    'tomorrow', 'day', 'first', 'love', 'nyc', 'city',\n",
    "    'york', 'new', 'happy', 'need', 'look', 'back', 'right',\n",
    "    'win', 'chance', 'enter', 'ever','pst','wha','yep', 'via',\n",
    "    'app', 'twitter', 'streaming', 'stream', 'ask', 'amp',\n",
    "    'beautiful', 'best', 'amazing', 'good', 'perfect', 'cute',\n",
    "    'simple', 'love', \n",
    "    \"alabama\",\"alaska\",\"arizona\",\"arkansas\",\"california\",\"colorado\",\n",
    "    \"connecticut\",\"delaware\",\"florida\",\"georgia\",\"hawaii\",\"idaho\",\"illinois\",\n",
    "    \"indiana\",\"iowa\",\"kansas\",\"kentucky\",\"louisiana\",\"maine\",\"maryland\",\n",
    "    \"massachusetts\",\"michigan\",\"minnesota\",\"mississippi\",\"missouri\",\"montana\",\n",
    "    \"nebraska\",\"nevada\",\"new hampshire\",\"new jersey\",\"new mexico\",\"new york\",\n",
    "    \"north carolina\",\"north dakota\",\"ohio\",\"oklahoma\",\"oregon\",\"pennsylvania\",\n",
    "    \"rhode island\",\"south carolina\",\"south dakota\",\"tennessee\",\"texas\",\"utah\",\n",
    "    \"vermont\",\"virginia\",\"washington\",\"west virginia\",\"wisconsin\",\"wyoming\",\n",
    "    \"AL\", \"AK\", \"AZ\", \"AR\", \"CA\", \"CO\", \"CT\", \"DC\", \"DE\", \"FL\", \"GA\", \n",
    "    \"HI\", \"ID\", \"IL\", \"IN\", \"IA\", \"KS\", \"KY\", \"LA\", \"ME\", \"MD\", \n",
    "    \"MA\", \"MI\", \"MN\", \"MS\", \"MO\", \"MT\", \"NE\", \"NV\", \"NH\", \"NJ\", \n",
    "    \"NM\", \"NY\", \"NC\", \"ND\", \"OH\", \"OK\", \"OR\", \"PA\", \"RI\", \"SC\", \n",
    "    \"SD\", \"TN\", \"TX\", \"UT\", \"VT\", \"VA\", \"WA\", \"WV\", \"WI\", \"WY\", \"brooklyn\",\"jackson hole\",\"hole\", \"blocker\"\n",
    "    \"headline\",\"headlines\",\"news\",\"article\",\"author\",\"date\",\"weekly\",\"daily\",\"monthly\", \"whitelist\",\n",
    "    \"subscription\",\"subscriptions\",\"subscribers\",\"subscribe\",\"email\",\"mailing list\",\"cookie\",\"policy\",\"privacy\"\n",
    "]\n",
    "\n",
    "stoplist = set(stopwords.words('english') + stoplist_tw)\n",
    "\n",
    "article_stop_list = ['january','february','march','april','may','june','july','august','september','october','november','december',\n",
    "               'jan','feb','mar','apr','may','jun','jul','aug','sep','oct','nov','dec',\n",
    "               'published','updated','by','editor\\'s','email:']"
   ]
  },
  {
   "cell_type": "code",
   "execution_count": 11,
   "metadata": {},
   "outputs": [],
   "source": [
    "#FIRST READ THE NEWSPAPER\n",
    "df = pd.read_csv('local_newspapers.csv')\n",
    "stoplist = stoplist | set(x.lower() for x in df['name1'])\n",
    "stoplist = stoplist | set(x.lower() for x in df['name2'])\n",
    "for x in df['name2']:\n",
    "    stoplist = stoplist | set(y.lower() for y in x.split())\n",
    "#stoplist1 = []\n",
    "#for x in stoplist:\n",
    "#    stoplist1.append(str(x).lower())\n",
    "#stoplist = set(stoplist1)"
   ]
  },
  {
   "cell_type": "code",
   "execution_count": 16,
   "metadata": {},
   "outputs": [
    {
     "name": "stdout",
     "output_type": "stream",
     "text": [
      "https://google.com/search?q=www.latimes.com+\"\"\"\"\"marijuana\"\"\"\"\"\n",
      "https://google.com/search?q=www.sfchronicle.com+\"\"\"\"\"marijuana\"\"\"\"\"\n",
      "https://google.com/search?q=www.utsandiego.com+\"\"\"\"\"marijuana\"\"\"\"\"\n",
      "https://google.com/search?q=www.ocregister.com+\"\"\"\"\"marijuana\"\"\"\"\"\n",
      "https://google.com/search?q=www.sfgate.com+\"\"\"\"\"marijuana\"\"\"\"\"\n"
     ]
    }
   ],
   "source": [
    "#TRANSOFRM THE PARAMETERS BEFORE GOING TO SEARCH \n",
    "search_key_words = \"\\\"\" + search_key_words.replace(\" \",\"+\") + \"\\\"\"\n",
    "df['newspaper_search'] = df['newspaper'].apply(lambda x: x.replace(\"/\",\"%2F\"))\n",
    "\n",
    "#READ THE GOOGLE RESULT PAGE\n",
    "sources = []\n",
    "for i in range(5):\n",
    "    newspaper = df['newspaper_search'][i]\n",
    "    url = 'https://google.com/search?q=' + newspaper + \"+\" + search_key_words\n",
    "    time.sleep(np.random.rand(1)+randint(0,1)) #create a random value between o and 1\n",
    "    print(url)\n",
    "    req = Request(url, headers={'User-Agent': 'Mozilla/5.0'})\n",
    "    sources.append(urlopen(req).read())\n",
    "\n",
    "#url = 'http://www.crummy.com/software/BeautifulSoup' #define a url as a string\n",
    "#source = urllib2.urlopen(url).read() #reads the data from this url using urllib library"
   ]
  }
 ],
 "metadata": {
  "celltoolbar": "Slideshow",
  "kernelspec": {
   "display_name": "Python 3",
   "language": "python",
   "name": "python3"
  },
  "language_info": {
   "codemirror_mode": {
    "name": "ipython",
    "version": 3
   },
   "file_extension": ".py",
   "mimetype": "text/x-python",
   "name": "python",
   "nbconvert_exporter": "python",
   "pygments_lexer": "ipython3",
   "version": "3.6.5"
  }
 },
 "nbformat": 4,
 "nbformat_minor": 1
}
